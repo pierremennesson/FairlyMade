{
 "cells": [
  {
   "cell_type": "code",
   "execution_count": 1,
   "id": "07856a12-9d7b-4bf1-921b-658dc757a2d0",
   "metadata": {},
   "outputs": [],
   "source": [
    "%load_ext autoreload\n",
    "%autoreload 2\n",
    "    \n",
    "import pandas as pd\n",
    "import matplotlib.pyplot as plt\n",
    "import numpy as np\n",
    "from sklearn.model_selection import cross_val_score,train_test_split\n",
    "from sklearn.linear_model import Ridge\n",
    "from lineartree import LinearTreeRegressor\n",
    "from lib_FM import *\n",
    "import random\n",
    "import time\n",
    "import pickle\n",
    "from warnings import simplefilter\n",
    "\n",
    "simplefilter(action=\"ignore\", category=pd.errors.PerformanceWarning)\n",
    "random.seed(10)"
   ]
  },
  {
   "cell_type": "markdown",
   "id": "e3a79761-a6e6-452d-96ea-6c26a7ee59b5",
   "metadata": {},
   "source": [
    "### READING THE DATASET"
   ]
  },
  {
   "cell_type": "code",
   "execution_count": 2,
   "id": "ce28a272-f45c-4964-b169-439a8287d354",
   "metadata": {},
   "outputs": [
    {
     "data": {
      "text/plain": [
       "Index(['study_id', 'product_type', 'nb_components', 'composition',\n",
       "       'raw_material_country', 'weaving_country', 'dyeing_country',\n",
       "       'manufacturing_country', 'plane_in_transports', 'climate_change',\n",
       "       'resource_use_fossils'],\n",
       "      dtype='object')"
      ]
     },
     "execution_count": 2,
     "metadata": {},
     "output_type": "execute_result"
    }
   ],
   "source": [
    "df=pd.read_csv('./fairlymade_products_impacts.csv')\n",
    "df.columns"
   ]
  },
  {
   "cell_type": "markdown",
   "id": "d675799e-bf27-424f-a7a0-f0662c1a836c",
   "metadata": {},
   "source": [
    "### ENCODING CATEGORICAL VARIABLES AND BUILDING TRAIN/VALIDATION DATASETS"
   ]
  },
  {
   "cell_type": "code",
   "execution_count": 3,
   "id": "6a13e0e2-9b91-4a89-8fa7-5da93b586575",
   "metadata": {},
   "outputs": [],
   "source": [
    "categorical_features=['product_type','nb_components']\n",
    "multi_valued_features=['composition','raw_material_country','weaving_country','dyeing_country','manufacturing_country']\n",
    "boolean_features=['plane_in_transports']\n",
    "numerical_features=['resource_use_fossils']\n",
    "\n",
    "FED=FeaturesEncoderDecoder(categorical_features=categorical_features,\n",
    "                           multi_valued_features=multi_valued_features,\n",
    "                           boolean_features=boolean_features,\n",
    "                           numerical_features=numerical_features)"
   ]
  },
  {
   "cell_type": "code",
   "execution_count": 4,
   "id": "2ea30b11-1dc9-45f2-ab85-4ff317954d90",
   "metadata": {},
   "outputs": [],
   "source": [
    "target_feature=\"climate_change\"\n",
    "df=df.dropna(subset=[target_feature]+numerical_features)\n",
    "y=np.array(df[target_feature])"
   ]
  },
  {
   "cell_type": "code",
   "execution_count": 5,
   "id": "73cb6047-4b8d-4964-8522-f10c71d70f43",
   "metadata": {},
   "outputs": [
    {
     "name": "stdout",
     "output_type": "stream",
     "text": [
      "encoding dataset took 0.804410\n"
     ]
    }
   ],
   "source": [
    "df=df.drop_duplicates()\n",
    "t1=time.time()\n",
    "X=FED.encode_dataframe(df,compute_labels=True)\n",
    "t2=time.time()\n",
    "print(\"encoding dataset took %f\"%(t2-t1))\n"
   ]
  },
  {
   "cell_type": "code",
   "execution_count": 6,
   "id": "fea2568f-f9d4-4f53-9592-befe054ffde7",
   "metadata": {},
   "outputs": [],
   "source": [
    "X_train, X_val, y_train, y_val = train_test_split(X, y, test_size=0.25)\n",
    "target_standard_deviation=np.std(y_train)\n"
   ]
  },
  {
   "cell_type": "markdown",
   "id": "91245a26-5417-4291-9c8e-ba50ece5b0c9",
   "metadata": {},
   "source": [
    "### TRAINING LINEAR MODEL TREES"
   ]
  },
  {
   "cell_type": "code",
   "execution_count": 7,
   "id": "4a81b8bf-f927-4ff1-837c-7be97ce437ee",
   "metadata": {},
   "outputs": [
    {
     "name": "stdout",
     "output_type": "stream",
     "text": [
      "alpha 0.010000, min_samples_leaf 0.000100, min_impurity_decrease_coeff 0.000000 : cv [0.91801321 0.91351274 0.8395818  0.89297885 0.88573244] mean 0.889964\n",
      "alpha 0.010000, min_samples_leaf 0.000100, min_impurity_decrease_coeff 0.000100 : cv [0.91801321 0.91351274 0.8395818  0.89297885 0.88573244] mean 0.889964\n",
      "alpha 0.010000, min_samples_leaf 0.000100, min_impurity_decrease_coeff 0.001000 : cv [0.91801321 0.91351274 0.8395818  0.89297885 0.88573244] mean 0.889964\n",
      "alpha 0.010000, min_samples_leaf 0.000100, min_impurity_decrease_coeff 0.100000 : cv [0.91801321 0.9135096  0.8395818  0.89297885 0.88573244] mean 0.889963\n",
      "alpha 0.010000, min_samples_leaf 0.001000, min_impurity_decrease_coeff 0.000000 : cv [0.91773644 0.91405664 0.84725268 0.8930081  0.88340366] mean 0.891092\n",
      "alpha 0.010000, min_samples_leaf 0.001000, min_impurity_decrease_coeff 0.000100 : cv [0.91773644 0.91405664 0.84725268 0.8930081  0.88340366] mean 0.891092\n",
      "alpha 0.010000, min_samples_leaf 0.001000, min_impurity_decrease_coeff 0.001000 : cv [0.91773644 0.91405664 0.84725268 0.8930081  0.88340366] mean 0.891092\n",
      "alpha 0.010000, min_samples_leaf 0.001000, min_impurity_decrease_coeff 0.100000 : cv [0.91773644 0.91405664 0.84725268 0.8930081  0.88340366] mean 0.891092\n",
      "alpha 0.010000, min_samples_leaf 0.100000, min_impurity_decrease_coeff 0.000000 : cv [0.7324358  0.81090343 0.32746699 0.31427451 0.3479343 ] mean 0.506603\n",
      "alpha 0.010000, min_samples_leaf 0.100000, min_impurity_decrease_coeff 0.000100 : cv [0.7324358  0.81090357 0.32746699 0.31427451 0.3479343 ] mean 0.506603\n",
      "alpha 0.010000, min_samples_leaf 0.100000, min_impurity_decrease_coeff 0.001000 : cv [0.73245163 0.81090432 0.32746699 0.31427451 0.3479343 ] mean 0.506606\n",
      "alpha 0.010000, min_samples_leaf 0.100000, min_impurity_decrease_coeff 0.100000 : cv [0.73276644 0.81052833 0.32639819 0.31345421 0.34696743] mean 0.506023\n",
      "alpha 1.000000, min_samples_leaf 0.000100, min_impurity_decrease_coeff 0.000000 : cv [0.91801376 0.9135127  0.83958678 0.8929793  0.88573252] mean 0.889965\n",
      "alpha 1.000000, min_samples_leaf 0.000100, min_impurity_decrease_coeff 0.000100 : cv [0.91801376 0.9135127  0.83958678 0.8929793  0.88573252] mean 0.889965\n",
      "alpha 1.000000, min_samples_leaf 0.000100, min_impurity_decrease_coeff 0.001000 : cv [0.91801376 0.9135127  0.83958678 0.8929793  0.88573252] mean 0.889965\n",
      "alpha 1.000000, min_samples_leaf 0.000100, min_impurity_decrease_coeff 0.100000 : cv [0.91801376 0.91350956 0.83958678 0.8929793  0.88573252] mean 0.889964\n",
      "alpha 1.000000, min_samples_leaf 0.001000, min_impurity_decrease_coeff 0.000000 : cv [0.917737   0.91405652 0.84725378 0.89300826 0.88340379] mean 0.891092\n",
      "alpha 1.000000, min_samples_leaf 0.001000, min_impurity_decrease_coeff 0.000100 : cv [0.917737   0.91405652 0.84725378 0.89300826 0.88340379] mean 0.891092\n",
      "alpha 1.000000, min_samples_leaf 0.001000, min_impurity_decrease_coeff 0.001000 : cv [0.917737   0.91405652 0.84725378 0.89300826 0.88340379] mean 0.891092\n",
      "alpha 1.000000, min_samples_leaf 0.001000, min_impurity_decrease_coeff 0.100000 : cv [0.917737   0.91405652 0.84725378 0.89300826 0.88340379] mean 0.891092\n",
      "alpha 1.000000, min_samples_leaf 0.100000, min_impurity_decrease_coeff 0.000000 : cv [0.73243581 0.81090338 0.327467   0.31427451 0.34793431] mean 0.506603\n",
      "alpha 1.000000, min_samples_leaf 0.100000, min_impurity_decrease_coeff 0.000100 : cv [0.73243581 0.81090353 0.327467   0.31427451 0.34793431] mean 0.506603\n",
      "alpha 1.000000, min_samples_leaf 0.100000, min_impurity_decrease_coeff 0.001000 : cv [0.73245164 0.81090428 0.327467   0.31427451 0.34793431] mean 0.506606\n",
      "alpha 1.000000, min_samples_leaf 0.100000, min_impurity_decrease_coeff 0.100000 : cv [0.73276646 0.81052828 0.32639819 0.31345421 0.34696745] mean 0.506023\n",
      "alpha 100.000000, min_samples_leaf 0.000100, min_impurity_decrease_coeff 0.000000 : cv [0.9180632  0.91350956 0.84006292 0.89301805 0.8857402 ] mean 0.890079\n",
      "alpha 100.000000, min_samples_leaf 0.000100, min_impurity_decrease_coeff 0.000100 : cv [0.9180632  0.91350956 0.84006292 0.89301805 0.8857402 ] mean 0.890079\n",
      "alpha 100.000000, min_samples_leaf 0.000100, min_impurity_decrease_coeff 0.001000 : cv [0.9180632  0.91350956 0.84006292 0.89301805 0.8857402 ] mean 0.890079\n",
      "alpha 100.000000, min_samples_leaf 0.000100, min_impurity_decrease_coeff 0.100000 : cv [0.9180632  0.91350642 0.84006292 0.89301805 0.8857402 ] mean 0.890078\n",
      "alpha 100.000000, min_samples_leaf 0.001000, min_impurity_decrease_coeff 0.000000 : cv [0.91779062 0.91404493 0.84736273 0.89302427 0.88341682] mean 0.891128\n",
      "alpha 100.000000, min_samples_leaf 0.001000, min_impurity_decrease_coeff 0.000100 : cv [0.91779062 0.91404493 0.84736273 0.89302427 0.88341682] mean 0.891128\n",
      "alpha 100.000000, min_samples_leaf 0.001000, min_impurity_decrease_coeff 0.001000 : cv [0.91779062 0.91404493 0.84736273 0.89302427 0.88341682] mean 0.891128\n",
      "alpha 100.000000, min_samples_leaf 0.001000, min_impurity_decrease_coeff 0.100000 : cv [0.91779062 0.91404493 0.84736273 0.89302427 0.88341682] mean 0.891128\n",
      "alpha 100.000000, min_samples_leaf 0.100000, min_impurity_decrease_coeff 0.000000 : cv [0.7324369  0.81090055 0.32746729 0.31427319 0.3479353 ] mean 0.506603\n",
      "alpha 100.000000, min_samples_leaf 0.100000, min_impurity_decrease_coeff 0.000100 : cv [0.7324369  0.81090069 0.32746729 0.31427319 0.3479353 ] mean 0.506603\n",
      "alpha 100.000000, min_samples_leaf 0.100000, min_impurity_decrease_coeff 0.001000 : cv [0.73245275 0.81090149 0.32746729 0.31427319 0.3479353 ] mean 0.506606\n",
      "alpha 100.000000, min_samples_leaf 0.100000, min_impurity_decrease_coeff 0.100000 : cv [0.73276772 0.81052549 0.32639848 0.31345353 0.34696855] mean 0.506023\n"
     ]
    }
   ],
   "source": [
    "best_score=None\n",
    "for alpha in [0.01,1.,100.]:\n",
    "    for min_samples_leaf in [0.0001,0.001,0.1]:\n",
    "        for min_impurity_decrease_coeff in [0.,0.0001,0.001,0.1]:\n",
    "            reg=LinearTreeRegressor(base_estimator=Ridge(alpha=alpha),\n",
    "                                    min_samples_leaf=min_samples_leaf,\n",
    "                                    min_impurity_decrease=min_impurity_decrease_coeff*target_standard_deviation,\n",
    "                                    categorical_features=np.arange(FED.n_binary_features))\n",
    "            scores=cross_val_score(reg,X_train,y_train)\n",
    "            score=np.mean(scores)\n",
    "            if best_score is None or best_score<score:\n",
    "                best_score=score\n",
    "                best_reg=reg\n",
    "            print(\"alpha %f, min_samples_leaf %f, min_impurity_decrease_coeff %f : cv %s mean %f\"%(alpha,min_samples_leaf,min_impurity_decrease_coeff,str(scores),score))\n",
    "reg=best_reg"
   ]
  },
  {
   "cell_type": "code",
   "execution_count": 9,
   "id": "5b5103af-146d-4e12-8036-32aaa7d152b0",
   "metadata": {},
   "outputs": [
    {
     "data": {
      "text/plain": [
       "(0.9136298727292305, 0.9153603911761565)"
      ]
     },
     "execution_count": 9,
     "metadata": {},
     "output_type": "execute_result"
    }
   ],
   "source": [
    "reg.fit(X_train,y_train)\n",
    "reg.score(X_val,y_val),reg.score(X_train,y_train)"
   ]
  },
  {
   "cell_type": "code",
   "execution_count": null,
   "id": "1031af8c-cf5e-4719-a7d4-2632a3f86d94",
   "metadata": {},
   "outputs": [],
   "source": []
  }
 ],
 "metadata": {
  "kernelspec": {
   "display_name": "pygmt",
   "language": "python",
   "name": "pygmt"
  },
  "language_info": {
   "codemirror_mode": {
    "name": "ipython",
    "version": 3
   },
   "file_extension": ".py",
   "mimetype": "text/x-python",
   "name": "python",
   "nbconvert_exporter": "python",
   "pygments_lexer": "ipython3",
   "version": "3.11.5"
  }
 },
 "nbformat": 4,
 "nbformat_minor": 5
}
