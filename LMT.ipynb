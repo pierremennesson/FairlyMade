{
 "cells": [
  {
   "cell_type": "code",
   "execution_count": 47,
   "id": "07856a12-9d7b-4bf1-921b-658dc757a2d0",
   "metadata": {},
   "outputs": [
    {
     "name": "stdout",
     "output_type": "stream",
     "text": [
      "The autoreload extension is already loaded. To reload it, use:\n",
      "  %reload_ext autoreload\n"
     ]
    }
   ],
   "source": [
    "%load_ext autoreload\n",
    "%autoreload 2\n",
    "    \n",
    "import pandas as pd\n",
    "import matplotlib.pyplot as plt\n",
    "import numpy as np\n",
    "from sklearn.model_selection import cross_val_score,train_test_split\n",
    "from sklearn.linear_model import Ridge\n",
    "from lineartree import LinearTreeRegressor\n",
    "from lib_FM import *\n",
    "import random\n",
    "import time\n",
    "import pickle\n",
    "from warnings import simplefilter\n",
    "\n",
    "simplefilter(action=\"ignore\", category=pd.errors.PerformanceWarning)\n",
    "random.seed(10)"
   ]
  },
  {
   "cell_type": "markdown",
   "id": "e3a79761-a6e6-452d-96ea-6c26a7ee59b5",
   "metadata": {},
   "source": [
    "### READING THE DATASET"
   ]
  },
  {
   "cell_type": "code",
   "execution_count": 48,
   "id": "ce28a272-f45c-4964-b169-439a8287d354",
   "metadata": {},
   "outputs": [
    {
     "data": {
      "text/plain": [
       "Index(['study_id', 'product_type', 'nb_components', 'composition',\n",
       "       'raw_material_country', 'weaving_country', 'dyeing_country',\n",
       "       'manufacturing_country', 'plane_in_transports', 'climate_change',\n",
       "       'resource_use_fossils'],\n",
       "      dtype='object')"
      ]
     },
     "execution_count": 48,
     "metadata": {},
     "output_type": "execute_result"
    }
   ],
   "source": [
    "df=pd.read_csv('./fairlymade_products_impacts.csv')\n",
    "df.columns"
   ]
  },
  {
   "cell_type": "markdown",
   "id": "d675799e-bf27-424f-a7a0-f0662c1a836c",
   "metadata": {},
   "source": [
    "### ENCODING CATEGORICAL VARIABLES AND BUILDING TRAIN/VALIDATION DATASETS"
   ]
  },
  {
   "cell_type": "code",
   "execution_count": 49,
   "id": "6a13e0e2-9b91-4a89-8fa7-5da93b586575",
   "metadata": {},
   "outputs": [],
   "source": [
    "categorical_features=['product_type','nb_components']\n",
    "multi_valued_features=['composition','raw_material_country','weaving_country','dyeing_country','manufacturing_country']\n",
    "boolean_features=['plane_in_transports']\n",
    "numerical_features=['resource_use_fossils']\n",
    "\n",
    "FED=FeaturesEncoderDecoder(categorical_features=categorical_features,\n",
    "                           multi_valued_features=multi_valued_features,\n",
    "                           boolean_features=boolean_features,\n",
    "                           numerical_features=numerical_features)"
   ]
  },
  {
   "cell_type": "code",
   "execution_count": 50,
   "id": "2ea30b11-1dc9-45f2-ab85-4ff317954d90",
   "metadata": {},
   "outputs": [],
   "source": [
    "target_feature=\"climate_change\"\n",
    "df=df.dropna(subset=[target_feature]+numerical_features)\n",
    "y=np.array(df[target_feature])"
   ]
  },
  {
   "cell_type": "code",
   "execution_count": 51,
   "id": "73cb6047-4b8d-4964-8522-f10c71d70f43",
   "metadata": {},
   "outputs": [
    {
     "name": "stdout",
     "output_type": "stream",
     "text": [
      "encoding dataset took 0.699288\n"
     ]
    }
   ],
   "source": [
    "df=df.drop_duplicates()\n",
    "t1=time.time()\n",
    "X=FED.encode_dataframe(df,compute_labels=True)\n",
    "t2=time.time()\n",
    "print(\"encoding dataset took %f\"%(t2-t1))\n"
   ]
  },
  {
   "cell_type": "code",
   "execution_count": 52,
   "id": "fea2568f-f9d4-4f53-9592-befe054ffde7",
   "metadata": {},
   "outputs": [],
   "source": [
    "X_train, X_val, y_train, y_val = train_test_split(X, y, test_size=0.25)\n"
   ]
  },
  {
   "cell_type": "code",
   "execution_count": null,
   "id": "4a81b8bf-f927-4ff1-837c-7be97ce437ee",
   "metadata": {},
   "outputs": [
    {
     "name": "stdout",
     "output_type": "stream",
     "text": [
      "alpha 0.010000, min_samples_leaf 0.000100, min_impurity_decrease 0.000100 : cv [0.81775021 0.88679882 0.64508297 0.85494076 0.84930203] mean 0.810775\n",
      "alpha 0.010000, min_samples_leaf 0.000100, min_impurity_decrease 0.001000 : cv [0.81775021 0.88679882 0.64508297 0.85494076 0.84930203] mean 0.810775\n",
      "alpha 0.010000, min_samples_leaf 0.000100, min_impurity_decrease 0.100000 : cv [0.81775021 0.88679882 0.64508297 0.85494076 0.84930203] mean 0.810775\n",
      "alpha 0.010000, min_samples_leaf 0.001000, min_impurity_decrease 0.000100 : cv [0.82101263 0.88873282 0.91309969 0.85513257 0.85245179] mean 0.866086\n",
      "alpha 0.010000, min_samples_leaf 0.001000, min_impurity_decrease 0.001000 : cv [0.82101263 0.88873282 0.91309969 0.85513257 0.85245179] mean 0.866086\n",
      "alpha 0.010000, min_samples_leaf 0.001000, min_impurity_decrease 0.100000 : cv [0.82101263 0.88873282 0.91309969 0.85513257 0.85245179] mean 0.866086\n",
      "alpha 0.010000, min_samples_leaf 0.100000, min_impurity_decrease 0.000100 : cv [0.7369929  0.83703353 0.31462277 0.74958558 0.76642032] mean 0.680931\n",
      "alpha 0.010000, min_samples_leaf 0.100000, min_impurity_decrease 0.001000 : cv [0.7369929  0.83703353 0.31462277 0.74958558 0.76642032] mean 0.680931\n",
      "alpha 0.010000, min_samples_leaf 0.100000, min_impurity_decrease 0.100000 : cv [0.73697683 0.83704107 0.31462277 0.7495966  0.76642682] mean 0.680933\n",
      "alpha 1.000000, min_samples_leaf 0.000100, min_impurity_decrease 0.000100 : cv [0.81775229 0.88679856 0.64513748 0.85494062 0.84930187] mean 0.810786\n",
      "alpha 1.000000, min_samples_leaf 0.000100, min_impurity_decrease 0.001000 : cv [0.81775229 0.88679856 0.64513748 0.85494062 0.84930187] mean 0.810786\n",
      "alpha 1.000000, min_samples_leaf 0.000100, min_impurity_decrease 0.100000 : cv [0.81775229 0.88679856 0.64513748 0.85494062 0.84930187] mean 0.810786\n",
      "alpha 1.000000, min_samples_leaf 0.001000, min_impurity_decrease 0.000100 : cv [0.82101284 0.88873276 0.91309977 0.85513239 0.85245195] mean 0.866086\n",
      "alpha 1.000000, min_samples_leaf 0.001000, min_impurity_decrease 0.001000 : cv [0.82101284 0.88873276 0.91309977 0.85513239 0.85245195] mean 0.866086\n",
      "alpha 1.000000, min_samples_leaf 0.001000, min_impurity_decrease 0.100000 : cv [0.82101284 0.88873276 0.91309977 0.85513239 0.85245195] mean 0.866086\n",
      "alpha 1.000000, min_samples_leaf 0.100000, min_impurity_decrease 0.000100 : cv [0.73699297 0.83703351 0.31462277 0.74958558 0.76642034] mean 0.680931\n",
      "alpha 1.000000, min_samples_leaf 0.100000, min_impurity_decrease 0.001000 : cv [0.73699297 0.83703351 0.31462277 0.74958558 0.76642034] mean 0.680931\n",
      "alpha 1.000000, min_samples_leaf 0.100000, min_impurity_decrease 0.100000 : cv [0.73697691 0.83704105 0.31462277 0.7495966  0.76642684] mean 0.680933\n",
      "alpha 100.000000, min_samples_leaf 0.000100, min_impurity_decrease 0.000100 : cv [0.81795444 0.88677234 0.65052295 0.85492776 0.84928371] mean 0.811892\n",
      "alpha 100.000000, min_samples_leaf 0.000100, min_impurity_decrease 0.001000 : cv [0.81795444 0.88677234 0.65052295 0.85492776 0.84928371] mean 0.811892\n",
      "alpha 100.000000, min_samples_leaf 0.000100, min_impurity_decrease 0.100000 : cv [0.81795444 0.88677234 0.65052295 0.85492776 0.84928371] mean 0.811892\n",
      "alpha 100.000000, min_samples_leaf 0.001000, min_impurity_decrease 0.000100 : cv [0.82103163 0.88872631 0.91310763 0.85511593 0.85246642] mean 0.866090\n",
      "alpha 100.000000, min_samples_leaf 0.001000, min_impurity_decrease 0.001000 : cv [0.82103163 0.88872631 0.91310763 0.85511593 0.85246642] mean 0.866090\n"
     ]
    }
   ],
   "source": [
    "best_score=None\n",
    "alpha=1.\n",
    "min_samples_leaf=3\n",
    "min_impurity_decrease=0.00\n",
    "for alpha in [0.01,1.,100.]:\n",
    "    for min_samples_leaf in [0.0001,0.001,0.1]:\n",
    "        for min_impurity_decrease in [0.0001,0.001,0.1]:\n",
    "            reg=LinearTreeRegressor(base_estimator=Ridge(alpha=alpha),\n",
    "                                    min_samples_leaf=min_samples_leaf,\n",
    "                                    min_impurity_decrease=min_impurity_decrease,\n",
    "                                    categorical_features=np.arange(FED.n_binary_features))\n",
    "            scores=cross_val_score(reg,X_train,y_train)\n",
    "            score=np.mean(scores)\n",
    "            if best_score is None or best_score<score:\n",
    "                best_score=score\n",
    "                best_reg=reg\n",
    "            print(\"alpha %f, min_samples_leaf %f, min_impurity_decrease %f : cv %s mean %f\"%(alpha,min_samples_leaf,min_impurity_decrease,str(scores),score))\n",
    "reg=best_reg"
   ]
  },
  {
   "cell_type": "code",
   "execution_count": 60,
   "id": "1b21d014-fb3a-4b5b-af3b-e60df3c47c2c",
   "metadata": {},
   "outputs": [
    {
     "data": {
      "text/plain": [
       "(0.01,\n",
       " 0.0001,\n",
       " 0.0001,\n",
       " '[0.81775021 0.88679882 0.64508297 0.85494076 0.84930203]',\n",
       " None)"
      ]
     },
     "execution_count": 60,
     "metadata": {},
     "output_type": "execute_result"
    }
   ],
   "source": [
    "(alpha,min_samples_leaf,min_impurity_decrease,str(scores),score)"
   ]
  },
  {
   "cell_type": "code",
   "execution_count": 54,
   "id": "5b5103af-146d-4e12-8036-32aaa7d152b0",
   "metadata": {},
   "outputs": [
    {
     "data": {
      "text/plain": [
       "(0.8660249387612083, 0.9098134723178717)"
      ]
     },
     "execution_count": 54,
     "metadata": {},
     "output_type": "execute_result"
    }
   ],
   "source": [
    "reg.fit(X_train,y_train)\n",
    "reg.score(X_val,y_val),reg.score(X_train,y_train)"
   ]
  },
  {
   "cell_type": "code",
   "execution_count": 7,
   "id": "daba2941-fdcc-4eb8-8755-d7afa5c0543f",
   "metadata": {},
   "outputs": [
    {
     "data": {
      "text/plain": [
       "array(['composition_CASHMERE', 'composition_VIRGINWOOL',\n",
       "       'composition_POLYESTER', 'composition_MERINOWOOL',\n",
       "       'composition_COTTON', 'composition_SILK', 'composition_SHEEPWOOL',\n",
       "       'nb_components_1', 'composition_VISCOSE', 'weaving_country_IT',\n",
       "       'manufacturing_country_CN', 'product_type_PULLOVERS',\n",
       "       'dyeing_country_IT', 'composition_ALPACAWOOL',\n",
       "       'composition_POLYAMIDE', 'dyeing_country_CN', 'weaving_country_CN',\n",
       "       'nb_components_2', 'manufacturing_country_IT',\n",
       "       'manufacturing_country_TR', 'product_type_JACKETS & WORKVESTS',\n",
       "       'composition_ACRYLIC', 'manufacturing_country_IN',\n",
       "       'composition_ELASTANE', 'product_type_PANTS',\n",
       "       'manufacturing_country_PT', 'composition_FLAX', 'nb_components_3',\n",
       "       'dyeing_country_IN', 'product_type_BLAZERS & SUITS',\n",
       "       'manufacturing_country_MA', 'composition_POLYPROPYLENE',\n",
       "       'composition_POLYSTYRENE', 'composition_POLYURETHANE',\n",
       "       'composition_POLYVINYLCHLORIDE', 'composition_RACCOONFUR',\n",
       "       'composition_RAFFIA', 'composition_PIMACOTTON',\n",
       "       'composition_POLYOXYMETHYLENE',\n",
       "       'composition_POLYETHYLENETEREPHTHALATE',\n",
       "       'composition_POLYETHYLENE', 'composition_POLYCARBONATE',\n",
       "       'composition_RECYCLEDACRYLIC', 'composition_PAPER-CARDBOARD',\n",
       "       'composition_OTHER', 'composition_ORGANICVIRGINWOOL',\n",
       "       'composition_ORGANICSILK', 'composition_ORGANICSHEEPWOOL',\n",
       "       'composition_ORGANICMERINOWOOL', 'composition_ORGANICFLAX',\n",
       "       'composition_ORGANICCOTTON', 'composition_NYLON',\n",
       "       'composition_NATURALRUBBER', 'composition_RAMIE',\n",
       "       'plane_in_transports', 'composition_RECYCLEDBRASS',\n",
       "       'composition_RECYCLEDCASHMERE', 'composition_REGENERATIVECOTTON',\n",
       "       'composition_REGENERATIVEMERINOWOOL',\n",
       "       'composition_REGENERATIVESHEEPWOOL', 'composition_SEAQUAL®',\n",
       "       'composition_SHEARLING', 'composition_SHEEPLEATHER',\n",
       "       'composition_SILICONE', 'composition_SPANDEX®',\n",
       "       'composition_STEEL', 'composition_SUPERFINEALPACAWOOL',\n",
       "       'composition_SUPERKIDMOHAIR', 'composition_SYNTHETICRUBBER',\n",
       "       'composition_TENCEL™LYOCELL', 'composition_TENCEL™MODAL',\n",
       "       'composition_THERMOPLASTICPOLYURETHANE',\n",
       "       'composition_REGENERATIVECASHMERE', 'composition_RECYCLEDZAMAK',\n",
       "       'composition_RECYCLEDVISCOSE', 'composition_MOHAIR',\n",
       "       'composition_RECYCLEDCOTTON', 'composition_RECYCLEDELASTANE',\n",
       "       'composition_RECYCLEDFLAX', 'composition_RECYCLEDIRON',\n",
       "       'composition_RECYCLEDMERINOWOOL', 'composition_RECYCLEDMIXEDDOWN',\n",
       "       'composition_RECYCLEDNYLON',\n",
       "       'composition_RECYCLEDTHERMOPLASTICPOLYURETHANE',\n",
       "       'composition_RECYCLEDPOLYAMIDE', 'composition_RECYCLEDPOLYESTER',\n",
       "       'composition_RECYCLEDPOLYETHYLENE',\n",
       "       'composition_RECYCLEDSAINTLESSSTEEL',\n",
       "       'composition_RECYCLEDSHEEPWOOL', 'composition_RECYCLEDSILK',\n",
       "       'composition_MOTHEROFPEARL', 'composition_HORN',\n",
       "       'composition_MODAL', 'product_type_TANK TOPS',\n",
       "       'product_type_SHORTS', 'product_type_SKIRTS', 'product_type_SOCKS',\n",
       "       'product_type_STOCKINGS & TIGHTS', 'product_type_SWEATSHIRTS',\n",
       "       'product_type_SWIMMING TRUNKS', 'product_type_TOPS',\n",
       "       'composition_MODACRYLIC', 'product_type_TSHIRTS',\n",
       "       'product_type_UNDERWEARS', 'product_type_WAISTCOATS',\n",
       "       'product_type_ZIPPED COATS', 'composition_ACETATE',\n",
       "       'composition_ACRYLONITRILEBUTADIENESTYRENE', 'product_type_SHIRTS',\n",
       "       'product_type_SHIRT-DRESSES', 'product_type_POLOS',\n",
       "       'product_type_ONE PIECES', 'product_type_LEGGINGS',\n",
       "       'product_type_JUMPSUITS & BOILERS', 'product_type_HOODIES',\n",
       "       'product_type_HOMEWEARS', 'product_type_FORMAL COATS',\n",
       "       'product_type_DRESSES', 'product_type_DOWN JACKETS',\n",
       "       'product_type_DENIM PANTS', 'product_type_CARDIGANS',\n",
       "       'product_type_BRAS', 'product_type_BODYSUITS',\n",
       "       'product_type_BLOUSES', 'product_type_BIKINIS',\n",
       "       'composition_ALUMINIUM', 'composition_BABYALPACAWOOL',\n",
       "       'composition_BAMBOOFIBER', 'composition_ECOVERO®',\n",
       "       'composition_MILKCASEIN', 'composition_METALLIZEDPOLYESTER',\n",
       "       'composition_METALLIZEDPOLYAMIDE', 'composition_LYOCELL',\n",
       "       'composition_LUREX®', 'composition_LIVAECOBYBIRLACELLULOSE™',\n",
       "       'composition_LAMBLEATHER', 'composition_KIDMOHAIR',\n",
       "       'composition_VEGETALIVORY-COROZO', 'composition_HEMP',\n",
       "       'composition_FEATHER', 'composition_EPOXY', 'composition_ENKA®',\n",
       "       'composition_ELASTOMULTIESTER', 'composition_DUCKDOWN',\n",
       "       'composition_BAMBOOVISCOSE', 'composition_CURLYLAMBFUR',\n",
       "       'composition_CUPRO', 'composition_COPPER',\n",
       "       'composition_COCONUTFIBER',\n",
       "       'composition_CHROMEFREETANNINGBOVINELEATHER',\n",
       "       'composition_CAPRINELEATHER', 'composition_CAMELHAIRS',\n",
       "       'composition_CALFLEATHER', 'composition_BRASS',\n",
       "       'composition_BOVINELEATHER', 'composition_BIRLAVISCOSE™',\n",
       "       'composition_BIO-BASEDPOLYESTER', 'composition_BIO-BASEDNYLON',\n",
       "       'composition_BIO-BASEDACRYLIC', 'composition_TRIACETATE',\n",
       "       'composition_ZINC', 'composition_VICUNAWOOL',\n",
       "       'manufacturing_country_BA', 'dyeing_country_MN',\n",
       "       'dyeing_country_MU', 'dyeing_country_MX', 'dyeing_country_PE',\n",
       "       'dyeing_country_PK', 'dyeing_country_PL', 'dyeing_country_PT',\n",
       "       'dyeing_country_RO', 'dyeing_country_SI', 'dyeing_country_TH',\n",
       "       'dyeing_country_TN', 'dyeing_country_TR', 'dyeing_country_TW',\n",
       "       'dyeing_country_US', 'dyeing_country_VN', 'dyeing_country_MG',\n",
       "       'dyeing_country_MA', 'dyeing_country_LT', 'dyeing_country_ES',\n",
       "       'dyeing_country_BG', 'dyeing_country_CH', 'dyeing_country_CZ',\n",
       "       'dyeing_country_DE', 'dyeing_country_DZ', 'dyeing_country_EG',\n",
       "       'dyeing_country_FR', 'dyeing_country_KR', 'dyeing_country_GB',\n",
       "       'dyeing_country_GR', 'dyeing_country_GT', 'dyeing_country_HK',\n",
       "       'dyeing_country_ID', 'dyeing_country_JP',\n",
       "       'manufacturing_country_AL', 'manufacturing_country_BD',\n",
       "       'composition_WATER-BASEDPOLYURETHANE', 'manufacturing_country_BG',\n",
       "       'manufacturing_country_MM', 'manufacturing_country_MN',\n",
       "       'manufacturing_country_MU', 'manufacturing_country_MX',\n",
       "       'manufacturing_country_NL', 'manufacturing_country_PE',\n",
       "       'manufacturing_country_PK', 'manufacturing_country_PL',\n",
       "       'manufacturing_country_RO', 'manufacturing_country_RS',\n",
       "       'manufacturing_country_SK', 'manufacturing_country_TH',\n",
       "       'manufacturing_country_TN', 'manufacturing_country_TW',\n",
       "       'manufacturing_country_UA', 'manufacturing_country_MK',\n",
       "       'manufacturing_country_MG', 'manufacturing_country_MD',\n",
       "       'manufacturing_country_HK', 'manufacturing_country_CH',\n",
       "       'manufacturing_country_EE', 'manufacturing_country_EG',\n",
       "       'manufacturing_country_ES', 'manufacturing_country_FR',\n",
       "       'manufacturing_country_GB', 'manufacturing_country_HU',\n",
       "       'manufacturing_country_LV', 'manufacturing_country_ID',\n",
       "       'manufacturing_country_JP', 'manufacturing_country_KH',\n",
       "       'manufacturing_country_KR', 'manufacturing_country_LA',\n",
       "       'manufacturing_country_LT', 'dyeing_country_BE',\n",
       "       'dyeing_country_BD', 'weaving_country_VN', 'weaving_country_US',\n",
       "       'raw_material_country_IE', 'raw_material_country_IN',\n",
       "       'raw_material_country_IT', 'raw_material_country_JP',\n",
       "       'raw_material_country_KG', 'raw_material_country_KR',\n",
       "       'raw_material_country_MG', 'raw_material_country_MN',\n",
       "       'raw_material_country_MU', 'raw_material_country_PK',\n",
       "       'raw_material_country_PL', 'raw_material_country_PT',\n",
       "       'raw_material_country_RO', 'raw_material_country_SI',\n",
       "       'raw_material_country_TH', 'raw_material_country_GR',\n",
       "       'raw_material_country_GB', 'raw_material_country_FR',\n",
       "       'raw_material_country_BE', 'composition_YAKWOOL',\n",
       "       'composition_ZAMAK', 'manufacturing_country_VN',\n",
       "       'raw_material_country_AT', 'raw_material_country_AU',\n",
       "       'raw_material_country_BD', 'raw_material_country_BF',\n",
       "       'raw_material_country_ES', 'raw_material_country_BJ',\n",
       "       'raw_material_country_BR', 'raw_material_country_CI',\n",
       "       'raw_material_country_CN', 'raw_material_country_DE',\n",
       "       'raw_material_country_EG', 'raw_material_country_TR',\n",
       "       'raw_material_country_TW', 'raw_material_country_UG',\n",
       "       'weaving_country_PT', 'weaving_country_KR', 'weaving_country_LT',\n",
       "       'weaving_country_MA', 'weaving_country_MG', 'weaving_country_MN',\n",
       "       'weaving_country_PK', 'weaving_country_RO', 'weaving_country_IN',\n",
       "       'weaving_country_SG', 'weaving_country_SK', 'weaving_country_TH',\n",
       "       'weaving_country_TN', 'weaving_country_TR', 'weaving_country_TW',\n",
       "       'weaving_country_JP', 'weaving_country_ID',\n",
       "       'raw_material_country_US', 'weaving_country_DK',\n",
       "       'raw_material_country_VN', 'weaving_country_BD',\n",
       "       'weaving_country_BE', 'weaving_country_BG', 'weaving_country_CZ',\n",
       "       'weaving_country_DE', 'weaving_country_DZ', 'weaving_country_HU',\n",
       "       'weaving_country_EG', 'weaving_country_ES', 'weaving_country_FR',\n",
       "       'weaving_country_GB', 'weaving_country_GR', 'weaving_country_HK',\n",
       "       'product_type_BIBS & BRACES'], dtype='<U45')"
      ]
     },
     "execution_count": 7,
     "metadata": {},
     "output_type": "execute_result"
    }
   ],
   "source": [
    "binary_features=np.array([\"%s_%s\"%(feature,label) for feature,feature_labels in FED.labels.items() for label in feature_labels]+FED.boolean_features)\n",
    "binary_features=binary_features[np.argsort(reg.feature_importances_[:FED.n_binary_features])[::-1]]\n",
    "binary_features"
   ]
  },
  {
   "cell_type": "markdown",
   "id": "25c28731-c9bb-4168-9095-9198154d3a73",
   "metadata": {},
   "source": [
    "### DATA VISUALIZATION NEW INSIGHTS"
   ]
  },
  {
   "cell_type": "code",
   "execution_count": 8,
   "id": "45180789-3660-4b15-902e-ecebed4edfa5",
   "metadata": {},
   "outputs": [],
   "source": [
    "df=df.dropna(subset=[\"resource_use_fossils\"])\n"
   ]
  },
  {
   "cell_type": "code",
   "execution_count": 9,
   "id": "64a4ad91-bebb-4f50-a0bf-c8435e9f6ae9",
   "metadata": {},
   "outputs": [
    {
     "name": "stdout",
     "output_type": "stream",
     "text": [
      "global_corr : 0.425991, pos_corr : 0.732581, neg_corr : 0.861418,weighted_corr : 0.848069\n"
     ]
    },
    {
     "data": {
      "image/png": "[encoded data removed]",
      "text/plain": [
       "<Figure size 800x800 with 1 Axes>"
      ]
     },
     "metadata": {},
     "output_type": "display_data"
    }
   ],
   "source": [
    "plt.rcParams['figure.figsize']=(8,8)\n",
    "\n",
    "binary_feature=binary_features[0]\n",
    "pos_df=df[df[binary_feature]]\n",
    "neg_df=df[~df[binary_feature]]\n",
    "x=df['resource_use_fossils']\n",
    "y=df['climate_change']\n",
    "x_pos=pos_df['resource_use_fossils']\n",
    "y_pos=pos_df['climate_change']\n",
    "x_neg=neg_df['resource_use_fossils']\n",
    "y_neg=neg_df['climate_change']\n",
    "\n",
    "global_corr=np.corrcoef(x, y)[0,1]\n",
    "pos_corr=np.corrcoef(x_pos, y_pos)[0,1]\n",
    "neg_corr=np.corrcoef(x_neg, y_neg)[0,1]\n",
    "weighted_corr=len(x_pos)*pos_corr/len(x)+len(x_neg)*neg_corr/len(x)\n",
    "\n",
    "print(\"global_corr : %f, pos_corr : %f, neg_corr : %f,weighted_corr : %f\"%(global_corr,pos_corr,neg_corr,weighted_corr))\n",
    "\n",
    "plt.scatter(x_pos,y_pos,c='b')\n",
    "plt.scatter(x_neg,y_neg,c='r')\n",
    "plt.xlabel('resource_use_fossils')\n",
    "plt.ylabel('climate_change')\n",
    "_=plt.title(binary_feature)"
   ]
  },
  {
   "cell_type": "markdown",
   "id": "f295a31a-7d64-4c06-9581-406e5009f5ea",
   "metadata": {},
   "source": [
    "### EXTRACTING AND VISUALIZING LEAF CONFIGURATIONS"
   ]
  },
  {
   "cell_type": "code",
   "execution_count": 10,
   "id": "cc88e8b7-a912-417e-8a78-0e39e4a97ecf",
   "metadata": {},
   "outputs": [
    {
     "name": "stdout",
     "output_type": "stream",
     "text": [
      "extracting configurations took 0.041884\n"
     ]
    }
   ],
   "source": [
    "t1=time.time()\n",
    "tree=reg.tree_\n",
    "n_binary_features=tree.n_features\n",
    "nx_tree=convert_tree(tree)\n",
    "FED.compute_features(nx_tree)\n",
    "leaf_configurations,leaf_values=extract_leaf_configuration(nx_tree)\n",
    "decoded_configurations=[FED.decode_key_configuration(leaf_configuration) for leaf_configuration in leaf_configurations]\n",
    "t2=time.time()\n",
    "print(\"extracting configurations took %f\"%(t2-t1))"
   ]
  },
  {
   "cell_type": "code",
   "execution_count": 11,
   "id": "7f3685d7-7831-47a7-9729-3a2d1221d3b1",
   "metadata": {},
   "outputs": [
    {
     "data": {
      "text/plain": [
       "{'product_type': {'forbidden_labels': array([], dtype='<U19')},\n",
       " 'nb_components': {'label': 1},\n",
       " 'composition': {'forbidden_labels': array(['COTTON'], dtype='<U33'),\n",
       "  'mandatory_labels': array(['CASHMERE'], dtype='<U33')},\n",
       " 'raw_material_country': {'forbidden_labels': array([], dtype='<U2'),\n",
       "  'mandatory_labels': array([], dtype='<U2')},\n",
       " 'weaving_country': {'forbidden_labels': array([], dtype='<U2'),\n",
       "  'mandatory_labels': array([], dtype='<U2')},\n",
       " 'dyeing_country': {'forbidden_labels': array([], dtype='<U2'),\n",
       "  'mandatory_labels': array([], dtype='<U2')},\n",
       " 'manufacturing_country': {'forbidden_labels': array([], dtype='<U2'),\n",
       "  'mandatory_labels': array([], dtype='<U2')},\n",
       " 'plane_in_transports': None,\n",
       " 'resource_use_fossils': {'min': 75.75160217285156, 'max': 80.77710342407227}}"
      ]
     },
     "execution_count": 11,
     "metadata": {},
     "output_type": "execute_result"
    }
   ],
   "source": [
    "random.choice(decoded_configurations)"
   ]
  },
  {
   "cell_type": "markdown",
   "id": "704be99c-5d18-4f09-b060-c2d939b21778",
   "metadata": {},
   "source": [
    "### SAVING DATA"
   ]
  },
  {
   "cell_type": "code",
   "execution_count": 13,
   "id": "6cdf84ff-ca9d-4665-8b47-975b2415207b",
   "metadata": {},
   "outputs": [],
   "source": [
    "model_path=\"./model.p\"\n",
    "features_encoder_decoder_path=\"./features_encoder_decoder.p\"\n",
    "leaf_configurations_path=\"./leaf_configurations.p\"\n",
    "leaf_values_path=\"./leaf_values.npy\"\n",
    "\n",
    "with open(model_path,\"wb\") as file:\n",
    "    pickle.dump(reg,file)\n",
    "with open(features_encoder_decoder_path,\"wb\") as file:\n",
    "    pickle.dump(FED,file)\n",
    "with open(leaf_configurations_path,\"wb\") as file:\n",
    "    pickle.dump(leaf_configurations,file)\n",
    "np.save(leaf_values_path,leaf_values)"
   ]
  },
  {
   "cell_type": "code",
   "execution_count": null,
   "id": "8ce4f843-3f12-4d09-b2db-aad34bcb40c3",
   "metadata": {},
   "outputs": [],
   "source": []
  }
 ],
 "metadata": {
  "kernelspec": {
   "display_name": "pygmt",
   "language": "python",
   "name": "pygmt"
  },
  "language_info": {
   "codemirror_mode": {
    "name": "ipython",
    "version": 3
   },
   "file_extension": ".py",
   "mimetype": "text/x-python",
   "name": "python",
   "nbconvert_exporter": "python",
   "pygments_lexer": "ipython3",
   "version": "3.11.5"
  }
 },
 "nbformat": 4,
 "nbformat_minor": 5
}
