{
 "cells": [
  {
   "cell_type": "code",
   "execution_count": 47,
   "id": "07856a12-9d7b-4bf1-921b-658dc757a2d0",
   "metadata": {},
   "outputs": [
    {
     "name": "stdout",
     "output_type": "stream",
     "text": [
      "The autoreload extension is already loaded. To reload it, use:\n",
      "  %reload_ext autoreload\n"
     ]
    }
   ],
   "source": [
    "%load_ext autoreload\n",
    "%autoreload 2\n",
    "    \n",
    "import pandas as pd\n",
    "import matplotlib.pyplot as plt\n",
    "import numpy as np\n",
    "from sklearn.model_selection import cross_val_score,train_test_split\n",
    "from sklearn.linear_model import Ridge\n",
    "from lineartree import LinearTreeRegressor\n",
    "from lib_FM import *\n",
    "import random\n",
    "import time\n",
    "import pickle\n",
    "from warnings import simplefilter\n",
    "\n",
    "simplefilter(action=\"ignore\", category=pd.errors.PerformanceWarning)\n",
    "random.seed(10)"
   ]
  },
  {
   "cell_type": "markdown",
   "id": "e3a79761-a6e6-452d-96ea-6c26a7ee59b5",
   "metadata": {},
   "source": [
    "### READING THE DATASET"
   ]
  },
  {
   "cell_type": "code",
   "execution_count": 48,
   "id": "ce28a272-f45c-4964-b169-439a8287d354",
   "metadata": {},
   "outputs": [
    {
     "data": {
      "text/plain": [
       "Index(['study_id', 'product_type', 'nb_components', 'composition',\n",
       "       'raw_material_country', 'weaving_country', 'dyeing_country',\n",
       "       'manufacturing_country', 'plane_in_transports', 'climate_change',\n",
       "       'resource_use_fossils'],\n",
       "      dtype='object')"
      ]
     },
     "execution_count": 48,
     "metadata": {},
     "output_type": "execute_result"
    }
   ],
   "source": [
    "df=pd.read_csv('./fairlymade_products_impacts.csv')\n",
    "df.columns"
   ]
  },
  {
   "cell_type": "markdown",
   "id": "d675799e-bf27-424f-a7a0-f0662c1a836c",
   "metadata": {},
   "source": [
    "### ENCODING CATEGORICAL VARIABLES AND BUILDING TRAIN/VALIDATION DATASETS"
   ]
  },
  {
   "cell_type": "code",
   "execution_count": 49,
   "id": "6a13e0e2-9b91-4a89-8fa7-5da93b586575",
   "metadata": {},
   "outputs": [],
   "source": [
    "categorical_features=['product_type','nb_components']\n",
    "multi_valued_features=['composition','raw_material_country','weaving_country','dyeing_country','manufacturing_country']\n",
    "boolean_features=['plane_in_transports']\n",
    "numerical_features=['resource_use_fossils']\n",
    "\n",
    "FED=FeaturesEncoderDecoder(categorical_features=categorical_features,\n",
    "                           multi_valued_features=multi_valued_features,\n",
    "                           boolean_features=boolean_features,\n",
    "                           numerical_features=numerical_features)"
   ]
  },
  {
   "cell_type": "code",
   "execution_count": 50,
   "id": "2ea30b11-1dc9-45f2-ab85-4ff317954d90",
   "metadata": {},
   "outputs": [],
   "source": [
    "target_feature=\"climate_change\"\n",
    "df=df.dropna(subset=[target_feature]+numerical_features)\n",
    "y=np.array(df[target_feature])"
   ]
  },
  {
   "cell_type": "code",
   "execution_count": 51,
   "id": "73cb6047-4b8d-4964-8522-f10c71d70f43",
   "metadata": {},
   "outputs": [
    {
     "name": "stdout",
     "output_type": "stream",
     "text": [
      "encoding dataset took 0.699288\n"
     ]
    }
   ],
   "source": [
    "df=df.drop_duplicates()\n",
    "t1=time.time()\n",
    "X=FED.encode_dataframe(df,compute_labels=True)\n",
    "t2=time.time()\n",
    "print(\"encoding dataset took %f\"%(t2-t1))\n"
   ]
  },
  {
   "cell_type": "code",
   "execution_count": 52,
   "id": "fea2568f-f9d4-4f53-9592-befe054ffde7",
   "metadata": {},
   "outputs": [],
   "source": [
    "X_train, X_val, y_train, y_val = train_test_split(X, y, test_size=0.25)\n"
   ]
  },
  {
   "cell_type": "code",
   "execution_count": 61,
   "id": "4a81b8bf-f927-4ff1-837c-7be97ce437ee",
   "metadata": {},
   "outputs": [
    {
     "name": "stdout",
     "output_type": "stream",
     "text": [
      "alpha 0.010000, min_samples_leaf 0.000100, min_impurity_decrease 0.000100 : cv [0.81775021 0.88679882 0.64508297 0.85494076 0.84930203] mean 0.810775\n",
      "alpha 0.010000, min_samples_leaf 0.000100, min_impurity_decrease 0.001000 : cv [0.81775021 0.88679882 0.64508297 0.85494076 0.84930203] mean 0.810775\n",
      "alpha 0.010000, min_samples_leaf 0.000100, min_impurity_decrease 0.100000 : cv [0.81775021 0.88679882 0.64508297 0.85494076 0.84930203] mean 0.810775\n",
      "alpha 0.010000, min_samples_leaf 0.001000, min_impurity_decrease 0.000100 : cv [0.82101263 0.88873282 0.91309969 0.85513257 0.85245179] mean 0.866086\n",
      "alpha 0.010000, min_samples_leaf 0.001000, min_impurity_decrease 0.001000 : cv [0.82101263 0.88873282 0.91309969 0.85513257 0.85245179] mean 0.866086\n",
      "alpha 0.010000, min_samples_leaf 0.001000, min_impurity_decrease 0.100000 : cv [0.82101263 0.88873282 0.91309969 0.85513257 0.85245179] mean 0.866086\n",
      "alpha 0.010000, min_samples_leaf 0.100000, min_impurity_decrease 0.000100 : cv [0.7369929  0.83703353 0.31462277 0.74958558 0.76642032] mean 0.680931\n",
      "alpha 0.010000, min_samples_leaf 0.100000, min_impurity_decrease 0.001000 : cv [0.7369929  0.83703353 0.31462277 0.74958558 0.76642032] mean 0.680931\n",
      "alpha 0.010000, min_samples_leaf 0.100000, min_impurity_decrease 0.100000 : cv [0.73697683 0.83704107 0.31462277 0.7495966  0.76642682] mean 0.680933\n",
      "alpha 1.000000, min_samples_leaf 0.000100, min_impurity_decrease 0.000100 : cv [0.81775229 0.88679856 0.64513748 0.85494062 0.84930187] mean 0.810786\n",
      "alpha 1.000000, min_samples_leaf 0.000100, min_impurity_decrease 0.001000 : cv [0.81775229 0.88679856 0.64513748 0.85494062 0.84930187] mean 0.810786\n",
      "alpha 1.000000, min_samples_leaf 0.000100, min_impurity_decrease 0.100000 : cv [0.81775229 0.88679856 0.64513748 0.85494062 0.84930187] mean 0.810786\n",
      "alpha 1.000000, min_samples_leaf 0.001000, min_impurity_decrease 0.000100 : cv [0.82101284 0.88873276 0.91309977 0.85513239 0.85245195] mean 0.866086\n",
      "alpha 1.000000, min_samples_leaf 0.001000, min_impurity_decrease 0.001000 : cv [0.82101284 0.88873276 0.91309977 0.85513239 0.85245195] mean 0.866086\n",
      "alpha 1.000000, min_samples_leaf 0.001000, min_impurity_decrease 0.100000 : cv [0.82101284 0.88873276 0.91309977 0.85513239 0.85245195] mean 0.866086\n",
      "alpha 1.000000, min_samples_leaf 0.100000, min_impurity_decrease 0.000100 : cv [0.73699297 0.83703351 0.31462277 0.74958558 0.76642034] mean 0.680931\n",
      "alpha 1.000000, min_samples_leaf 0.100000, min_impurity_decrease 0.001000 : cv [0.73699297 0.83703351 0.31462277 0.74958558 0.76642034] mean 0.680931\n",
      "alpha 1.000000, min_samples_leaf 0.100000, min_impurity_decrease 0.100000 : cv [0.73697691 0.83704105 0.31462277 0.7495966  0.76642684] mean 0.680933\n",
      "alpha 100.000000, min_samples_leaf 0.000100, min_impurity_decrease 0.000100 : cv [0.81795444 0.88677234 0.65052295 0.85492776 0.84928371] mean 0.811892\n",
      "alpha 100.000000, min_samples_leaf 0.000100, min_impurity_decrease 0.001000 : cv [0.81795444 0.88677234 0.65052295 0.85492776 0.84928371] mean 0.811892\n",
      "alpha 100.000000, min_samples_leaf 0.000100, min_impurity_decrease 0.100000 : cv [0.81795444 0.88677234 0.65052295 0.85492776 0.84928371] mean 0.811892\n",
      "alpha 100.000000, min_samples_leaf 0.001000, min_impurity_decrease 0.000100 : cv [0.82103163 0.88872631 0.91310763 0.85511593 0.85246642] mean 0.866090\n",
      "alpha 100.000000, min_samples_leaf 0.001000, min_impurity_decrease 0.001000 : cv [0.82103163 0.88872631 0.91310763 0.85511593 0.85246642] mean 0.866090\n",
      "alpha 100.000000, min_samples_leaf 0.001000, min_impurity_decrease 0.100000 : cv [0.82103163 0.88872631 0.91310763 0.85511593 0.85246642] mean 0.866090\n",
      "alpha 100.000000, min_samples_leaf 0.100000, min_impurity_decrease 0.000100 : cv [0.73699618 0.83703128 0.31462199 0.74958629 0.76642196] mean 0.680932\n",
      "alpha 100.000000, min_samples_leaf 0.100000, min_impurity_decrease 0.001000 : cv [0.73699618 0.83703128 0.31462199 0.74958629 0.76642196] mean 0.680932\n",
      "alpha 100.000000, min_samples_leaf 0.100000, min_impurity_decrease 0.100000 : cv [0.73698019 0.83703883 0.31462199 0.74959732 0.76642847] mean 0.680933\n"
     ]
    }
   ],
   "source": [
    "best_score=None\n",
    "alpha=1.\n",
    "min_samples_leaf=3\n",
    "min_impurity_decrease=0.00\n",
    "for alpha in [0.01,1.,100.]:\n",
    "    for min_samples_leaf in [0.0001,0.001,0.1]:\n",
    "        for min_impurity_decrease in [0.0001,0.001,0.1]:\n",
    "            reg=LinearTreeRegressor(base_estimator=Ridge(alpha=alpha),\n",
    "                                    min_samples_leaf=min_samples_leaf,\n",
    "                                    min_impurity_decrease=min_impurity_decrease,\n",
    "                                    categorical_features=np.arange(FED.n_binary_features))\n",
    "            scores=cross_val_score(reg,X_train,y_train)\n",
    "            score=np.mean(scores)\n",
    "            if best_score is None or best_score<score:\n",
    "                best_score=score\n",
    "                best_reg=reg\n",
    "            print(\"alpha %f, min_samples_leaf %f, min_impurity_decrease %f : cv %s mean %f\"%(alpha,min_samples_leaf,min_impurity_decrease,str(scores),score))\n",
    "reg=best_reg"
   ]
  },
  {
   "cell_type": "code",
   "execution_count": 63,
   "id": "5b5103af-146d-4e12-8036-32aaa7d152b0",
   "metadata": {},
   "outputs": [
    {
     "data": {
      "text/plain": [
       "(0.8670041758838998, 0.9076391649316657)"
      ]
     },
     "execution_count": 63,
     "metadata": {},
     "output_type": "execute_result"
    }
   ],
   "source": [
    "reg.fit(X_train,y_train)\n",
    "reg.score(X_val,y_val),reg.score(X_train,y_train)"
   ]
  },
  {
   "cell_type": "code",
   "execution_count": null,
   "id": "8ce4f843-3f12-4d09-b2db-aad34bcb40c3",
   "metadata": {},
   "outputs": [],
   "source": []
  }
 ],
 "metadata": {
  "kernelspec": {
   "display_name": "pygmt",
   "language": "python",
   "name": "pygmt"
  },
  "language_info": {
   "codemirror_mode": {
    "name": "ipython",
    "version": 3
   },
   "file_extension": ".py",
   "mimetype": "text/x-python",
   "name": "python",
   "nbconvert_exporter": "python",
   "pygments_lexer": "ipython3",
   "version": "3.11.5"
  }
 },
 "nbformat": 4,
 "nbformat_minor": 5
}
