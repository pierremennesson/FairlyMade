{
 "cells": [
  {
   "cell_type": "code",
   "execution_count": 66,
   "id": "07856a12-9d7b-4bf1-921b-658dc757a2d0",
   "metadata": {},
   "outputs": [
    {
     "name": "stdout",
     "output_type": "stream",
     "text": [
      "The autoreload extension is already loaded. To reload it, use:\n",
      "  %reload_ext autoreload\n"
     ]
    }
   ],
   "source": [
    "%load_ext autoreload\n",
    "%autoreload 2\n",
    "    \n",
    "import pandas as pd\n",
    "import matplotlib.pyplot as plt\n",
    "import numpy as np\n",
    "from sklearn.model_selection import cross_val_score,train_test_split\n",
    "from sklearn.linear_model import Ridge\n",
    "from lineartree import LinearTreeRegressor\n",
    "from lib_FM import *\n",
    "import random\n",
    "import time\n",
    "import pickle\n",
    "from warnings import simplefilter\n",
    "\n",
    "simplefilter(action=\"ignore\", category=pd.errors.PerformanceWarning)\n",
    "random.seed(10)"
   ]
  },
  {
   "cell_type": "markdown",
   "id": "e3a79761-a6e6-452d-96ea-6c26a7ee59b5",
   "metadata": {},
   "source": [
    "### READING THE DATASET"
   ]
  },
  {
   "cell_type": "code",
   "execution_count": 67,
   "id": "ce28a272-f45c-4964-b169-439a8287d354",
   "metadata": {},
   "outputs": [
    {
     "data": {
      "text/plain": [
       "Index(['study_id', 'product_type', 'nb_components', 'composition',\n",
       "       'raw_material_country', 'weaving_country', 'dyeing_country',\n",
       "       'manufacturing_country', 'plane_in_transports', 'climate_change',\n",
       "       'resource_use_fossils'],\n",
       "      dtype='object')"
      ]
     },
     "execution_count": 67,
     "metadata": {},
     "output_type": "execute_result"
    }
   ],
   "source": [
    "df=pd.read_csv('./fairlymade_products_impacts.csv')\n",
    "df.columns"
   ]
  },
  {
   "cell_type": "markdown",
   "id": "d675799e-bf27-424f-a7a0-f0662c1a836c",
   "metadata": {},
   "source": [
    "### ENCODING CATEGORICAL VARIABLES AND BUILDING TRAIN/VALIDATION DATASETS"
   ]
  },
  {
   "cell_type": "code",
   "execution_count": 68,
   "id": "6a13e0e2-9b91-4a89-8fa7-5da93b586575",
   "metadata": {},
   "outputs": [],
   "source": [
    "categorical_features=['product_type','nb_components']\n",
    "multi_valued_features=['composition','raw_material_country','weaving_country','dyeing_country','manufacturing_country']\n",
    "boolean_features=['plane_in_transports']\n",
    "numerical_features=['resource_use_fossils']\n",
    "\n",
    "FED=FeaturesEncoderDecoder(categorical_features=categorical_features,\n",
    "                           multi_valued_features=multi_valued_features,\n",
    "                           boolean_features=boolean_features,\n",
    "                           numerical_features=numerical_features)"
   ]
  },
  {
   "cell_type": "code",
   "execution_count": 69,
   "id": "2ea30b11-1dc9-45f2-ab85-4ff317954d90",
   "metadata": {},
   "outputs": [],
   "source": [
    "target_feature=\"climate_change\"\n",
    "df=df.dropna(subset=[target_feature]+numerical_features)\n",
    "y=np.array(df[target_feature])"
   ]
  },
  {
   "cell_type": "code",
   "execution_count": 70,
   "id": "73cb6047-4b8d-4964-8522-f10c71d70f43",
   "metadata": {},
   "outputs": [
    {
     "name": "stdout",
     "output_type": "stream",
     "text": [
      "encoding dataset took 0.785401\n"
     ]
    }
   ],
   "source": [
    "df=df.drop_duplicates()\n",
    "t1=time.time()\n",
    "X=FED.encode_dataframe(df,compute_labels=True)\n",
    "t2=time.time()\n",
    "print(\"encoding dataset took %f\"%(t2-t1))\n"
   ]
  },
  {
   "cell_type": "code",
   "execution_count": 71,
   "id": "fea2568f-f9d4-4f53-9592-befe054ffde7",
   "metadata": {},
   "outputs": [],
   "source": [
    "X_train, X_val, y_train, y_val = train_test_split(X, y, test_size=0.25)\n"
   ]
  },
  {
   "cell_type": "markdown",
   "id": "91245a26-5417-4291-9c8e-ba50ece5b0c9",
   "metadata": {},
   "source": [
    "### TRAINING LINEAR MODEL TREES"
   ]
  },
  {
   "cell_type": "code",
   "execution_count": 72,
   "id": "4a81b8bf-f927-4ff1-837c-7be97ce437ee",
   "metadata": {},
   "outputs": [
    {
     "name": "stdout",
     "output_type": "stream",
     "text": [
      "alpha 0.010000, min_samples_leaf 0.000100, min_impurity_decrease 0.000100 : cv [0.85449683 0.82296196 0.86250639 0.87011292 0.88898288] mean 0.859812\n",
      "alpha 0.010000, min_samples_leaf 0.000100, min_impurity_decrease 0.001000 : cv [0.85449683 0.82296196 0.86250639 0.87011292 0.88898288] mean 0.859812\n",
      "alpha 0.010000, min_samples_leaf 0.000100, min_impurity_decrease 0.100000 : cv [0.85449683 0.82296196 0.86250639 0.87011292 0.88898288] mean 0.859812\n",
      "alpha 0.010000, min_samples_leaf 0.001000, min_impurity_decrease 0.000100 : cv [0.84870643 0.83085213 0.85797854 0.85221498 0.8904458 ] mean 0.856040\n",
      "alpha 0.010000, min_samples_leaf 0.001000, min_impurity_decrease 0.001000 : cv [0.84870643 0.83085213 0.85797854 0.85221498 0.8904458 ] mean 0.856040\n",
      "alpha 0.010000, min_samples_leaf 0.001000, min_impurity_decrease 0.100000 : cv [0.84870643 0.83085213 0.85797854 0.85221498 0.8904458 ] mean 0.856040\n",
      "alpha 0.010000, min_samples_leaf 0.100000, min_impurity_decrease 0.000100 : cv [0.74935353 0.80408792 0.74995011 0.80308786 0.34924172] mean 0.691144\n",
      "alpha 0.010000, min_samples_leaf 0.100000, min_impurity_decrease 0.001000 : cv [0.74935353 0.80408792 0.74995011 0.80308786 0.34924172] mean 0.691144\n",
      "alpha 0.010000, min_samples_leaf 0.100000, min_impurity_decrease 0.100000 : cv [0.74933367 0.80409041 0.74994545 0.8030954  0.34923077] mean 0.691139\n",
      "alpha 1.000000, min_samples_leaf 0.000100, min_impurity_decrease 0.000100 : cv [0.85449689 0.82295774 0.86250694 0.87011304 0.88898599] mean 0.859812\n",
      "alpha 1.000000, min_samples_leaf 0.000100, min_impurity_decrease 0.001000 : cv [0.85449689 0.82295774 0.86250694 0.87011304 0.88898599] mean 0.859812\n",
      "alpha 1.000000, min_samples_leaf 0.000100, min_impurity_decrease 0.100000 : cv [0.85449689 0.82295774 0.86250694 0.87011304 0.88898599] mean 0.859812\n",
      "alpha 1.000000, min_samples_leaf 0.001000, min_impurity_decrease 0.000100 : cv [0.84870688 0.83085255 0.85797888 0.8522157  0.8904468 ] mean 0.856040\n",
      "alpha 1.000000, min_samples_leaf 0.001000, min_impurity_decrease 0.001000 : cv [0.84870688 0.83085255 0.85797888 0.8522157  0.8904468 ] mean 0.856040\n",
      "alpha 1.000000, min_samples_leaf 0.001000, min_impurity_decrease 0.100000 : cv [0.84870688 0.83085255 0.85797888 0.8522157  0.8904468 ] mean 0.856040\n",
      "alpha 1.000000, min_samples_leaf 0.100000, min_impurity_decrease 0.000100 : cv [0.74935355 0.80408791 0.74995011 0.80308786 0.34924172] mean 0.691144\n",
      "alpha 1.000000, min_samples_leaf 0.100000, min_impurity_decrease 0.001000 : cv [0.74935355 0.80408791 0.74995011 0.80308786 0.34924172] mean 0.691144\n",
      "alpha 1.000000, min_samples_leaf 0.100000, min_impurity_decrease 0.100000 : cv [0.74933369 0.8040904  0.74994545 0.8030954  0.34923077] mean 0.691139\n",
      "alpha 100.000000, min_samples_leaf 0.000100, min_impurity_decrease 0.000100 : cv [0.85450141 0.82256053 0.86256011 0.87001179 0.88929557] mean 0.859786\n",
      "alpha 100.000000, min_samples_leaf 0.000100, min_impurity_decrease 0.001000 : cv [0.85450141 0.82256053 0.86256011 0.87001179 0.88929557] mean 0.859786\n",
      "alpha 100.000000, min_samples_leaf 0.000100, min_impurity_decrease 0.100000 : cv [0.85450141 0.82256053 0.86256011 0.87001179 0.88929557] mean 0.859786\n",
      "alpha 100.000000, min_samples_leaf 0.001000, min_impurity_decrease 0.000100 : cv [0.84875086 0.830893   0.85801153 0.85228774 0.8905473 ] mean 0.856098\n",
      "alpha 100.000000, min_samples_leaf 0.001000, min_impurity_decrease 0.001000 : cv [0.84875086 0.830893   0.85801153 0.85228774 0.8905473 ] mean 0.856098\n",
      "alpha 100.000000, min_samples_leaf 0.001000, min_impurity_decrease 0.100000 : cv [0.84875086 0.830893   0.85801153 0.85228774 0.8905473 ] mean 0.856098\n",
      "alpha 100.000000, min_samples_leaf 0.100000, min_impurity_decrease 0.000100 : cv [0.7493553  0.80408637 0.7499519  0.80308904 0.34924129] mean 0.691145\n",
      "alpha 100.000000, min_samples_leaf 0.100000, min_impurity_decrease 0.001000 : cv [0.7493553  0.80408637 0.7499519  0.80308904 0.34924129] mean 0.691145\n",
      "alpha 100.000000, min_samples_leaf 0.100000, min_impurity_decrease 0.100000 : cv [0.74933543 0.80408886 0.74994724 0.80309655 0.34923033] mean 0.691140\n"
     ]
    }
   ],
   "source": [
    "best_score=None\n",
    "alpha=1.\n",
    "min_samples_leaf=3\n",
    "min_impurity_decrease=0.00\n",
    "for alpha in [0.01,1.,100.]:\n",
    "    for min_samples_leaf in [0.0001,0.001,0.1]:\n",
    "        for min_impurity_decrease in [0.0001,0.001,0.1]:\n",
    "            reg=LinearTreeRegressor(base_estimator=Ridge(alpha=alpha),\n",
    "                                    min_samples_leaf=min_samples_leaf,\n",
    "                                    min_impurity_decrease=min_impurity_decrease,\n",
    "                                    categorical_features=np.arange(FED.n_binary_features))\n",
    "            scores=cross_val_score(reg,X_train,y_train)\n",
    "            score=np.mean(scores)\n",
    "            if best_score is None or best_score<score:\n",
    "                best_score=score\n",
    "                best_reg=reg\n",
    "            print(\"alpha %f, min_samples_leaf %f, min_impurity_decrease %f : cv %s mean %f\"%(alpha,min_samples_leaf,min_impurity_decrease,str(scores),score))\n",
    "reg=best_reg"
   ]
  },
  {
   "cell_type": "code",
   "execution_count": 73,
   "id": "5b5103af-146d-4e12-8036-32aaa7d152b0",
   "metadata": {},
   "outputs": [
    {
     "data": {
      "text/plain": [
       "(0.90809322403741, 0.9025054576149235)"
      ]
     },
     "execution_count": 73,
     "metadata": {},
     "output_type": "execute_result"
    }
   ],
   "source": [
    "reg.fit(X_train,y_train)\n",
    "reg.score(X_val,y_val),reg.score(X_train,y_train)"
   ]
  },
  {
   "cell_type": "code",
   "execution_count": null,
   "id": "826bb0b3-f1d1-45be-b5e1-523941d620cf",
   "metadata": {},
   "outputs": [],
   "source": []
  }
 ],
 "metadata": {
  "kernelspec": {
   "display_name": "pygmt",
   "language": "python",
   "name": "pygmt"
  },
  "language_info": {
   "codemirror_mode": {
    "name": "ipython",
    "version": 3
   },
   "file_extension": ".py",
   "mimetype": "text/x-python",
   "name": "python",
   "nbconvert_exporter": "python",
   "pygments_lexer": "ipython3",
   "version": "3.11.5"
  }
 },
 "nbformat": 4,
 "nbformat_minor": 5
}
