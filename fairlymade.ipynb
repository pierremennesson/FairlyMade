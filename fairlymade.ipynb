{
 "cells": [
  {
   "cell_type": "code",
   "execution_count": 16,
   "id": "07856a12-9d7b-4bf1-921b-658dc757a2d0",
   "metadata": {},
   "outputs": [
    {
     "name": "stdout",
     "output_type": "stream",
     "text": [
      "The autoreload extension is already loaded. To reload it, use:\n",
      "  %reload_ext autoreload\n"
     ]
    }
   ],
   "source": [
    "%load_ext autoreload\n",
    "%autoreload 2\n",
    "    \n",
    "import pandas as pd\n",
    "import matplotlib.pyplot as plt\n",
    "import numpy as np\n",
    "from sklearn.model_selection import cross_val_score,train_test_split\n",
    "from sklearn.linear_model import Ridge\n",
    "from sklearn.tree import DecisionTreeRegressor\n",
    "from sklearn.ensemble import RandomForestRegressor\n",
    "from sklearn.svm import SVR\n",
    "from lib_FM import *\n",
    "import random\n",
    "import time\n",
    "import pickle\n",
    "from warnings import simplefilter\n",
    "\n",
    "simplefilter(action=\"ignore\", category=pd.errors.PerformanceWarning)\n",
    "random.seed(10)"
   ]
  },
  {
   "cell_type": "markdown",
   "id": "e3a79761-a6e6-452d-96ea-6c26a7ee59b5",
   "metadata": {},
   "source": [
    "### READING THE DATASET"
   ]
  },
  {
   "cell_type": "code",
   "execution_count": 17,
   "id": "ce28a272-f45c-4964-b169-439a8287d354",
   "metadata": {},
   "outputs": [
    {
     "data": {
      "text/plain": [
       "Index(['study_id', 'product_type', 'nb_components', 'composition',\n",
       "       'raw_material_country', 'weaving_country', 'dyeing_country',\n",
       "       'manufacturing_country', 'plane_in_transports', 'climate_change',\n",
       "       'resource_use_fossils'],\n",
       "      dtype='object')"
      ]
     },
     "execution_count": 17,
     "metadata": {},
     "output_type": "execute_result"
    }
   ],
   "source": [
    "df=pd.read_csv('./fairlymade_products_impacts.csv')\n",
    "df.columns"
   ]
  },
  {
   "cell_type": "markdown",
   "id": "d675799e-bf27-424f-a7a0-f0662c1a836c",
   "metadata": {},
   "source": [
    "### ENCODING CATEGORICAL VARIABLES AND BUILDING TRAIN/VALIDATION DATASETS"
   ]
  },
  {
   "cell_type": "code",
   "execution_count": 18,
   "id": "6a13e0e2-9b91-4a89-8fa7-5da93b586575",
   "metadata": {},
   "outputs": [],
   "source": [
    "categorical_features=['product_type','nb_components']\n",
    "multi_valued_features=['composition','raw_material_country','weaving_country','dyeing_country','manufacturing_country']\n",
    "boolean_features=['plane_in_transports']\n",
    "numerical_features=[]\n",
    "\n",
    "FED=FeaturesEncoderDecoder(categorical_features=categorical_features,\n",
    "                           multi_valued_features=multi_valued_features,\n",
    "                           boolean_features=boolean_features,\n",
    "                           numerical_features=numerical_features)"
   ]
  },
  {
   "cell_type": "code",
   "execution_count": 19,
   "id": "2ea30b11-1dc9-45f2-ab85-4ff317954d90",
   "metadata": {},
   "outputs": [],
   "source": [
    "target_feature=\"climate_change\"\n",
    "df=df.dropna(subset=[target_feature]+numerical_features)\n",
    "y=np.array(df[target_feature])\n"
   ]
  },
  {
   "cell_type": "code",
   "execution_count": 20,
   "id": "73cb6047-4b8d-4964-8522-f10c71d70f43",
   "metadata": {},
   "outputs": [
    {
     "name": "stdout",
     "output_type": "stream",
     "text": [
      "encoding dataset took 0.791258\n"
     ]
    }
   ],
   "source": [
    "df=df.drop_duplicates()\n",
    "t1=time.time()\n",
    "X=FED.encode_dataframe(df,compute_labels=True)\n",
    "t2=time.time()\n",
    "print(\"encoding dataset took %f\"%(t2-t1))\n",
    "X_train, X_val, y_train, y_val = train_test_split(X, y, test_size=0.25)\n"
   ]
  },
  {
   "cell_type": "markdown",
   "id": "b9fce672-3784-4299-be7c-341d4093d79d",
   "metadata": {},
   "source": [
    "### MODEL SELECTION"
   ]
  },
  {
   "cell_type": "code",
   "execution_count": 21,
   "id": "d9bf0793-7fe3-4977-90d7-b2304ed4ea6b",
   "metadata": {},
   "outputs": [
    {
     "name": "stdout",
     "output_type": "stream",
     "text": [
      "config {'type': 'ridge', 'alpha': 0.01} : cv [0.53559274 0.59959694 0.57835716 0.55139624 0.58069165] mean 0.569127\n",
      "config {'type': 'ridge', 'alpha': 0.1} : cv [0.5367047  0.59963441 0.57903018 0.55267512 0.58065428] mean 0.569740\n",
      "config {'type': 'ridge', 'alpha': 1.0} : cv [0.54164782 0.59881149 0.58291563 0.55946847 0.57959972] mean 0.572489\n",
      "config {'type': 'ridge', 'alpha': 10.0} : cv [0.55261187 0.58848963 0.58859548 0.56666264 0.57057934] mean 0.573388\n",
      "config {'type': 'ridge', 'alpha': 100.0} : cv [0.54494826 0.53579084 0.56201686 0.54193057 0.52184566] mean 0.541306\n",
      "config {'type': 'tree', 'min_samples_leaf': 1, 'min_impurity_decrease': 0.0} : cv [0.49921568 0.63112046 0.46511437 0.72378225 0.68304953] mean 0.600456\n",
      "config {'type': 'tree', 'min_samples_leaf': 1, 'min_impurity_decrease': 0.001} : cv [0.47679085 0.64342891 0.46012412 0.73792262 0.70154268] mean 0.603962\n",
      "config {'type': 'tree', 'min_samples_leaf': 1, 'min_impurity_decrease': 0.01} : cv [0.47297515 0.62284195 0.46418708 0.6993156  0.72057543] mean 0.595979\n",
      "config {'type': 'tree', 'min_samples_leaf': 1, 'min_impurity_decrease': 0.1} : cv [0.55257531 0.65674598 0.46222761 0.72318147 0.72043807] mean 0.623034\n",
      "config {'type': 'tree', 'min_samples_leaf': 0.001, 'min_impurity_decrease': 0.0} : cv [0.64164781 0.662652   0.63321951 0.67504429 0.69874241] mean 0.662261\n",
      "config {'type': 'tree', 'min_samples_leaf': 0.001, 'min_impurity_decrease': 0.001} : cv [0.64279892 0.66184321 0.63508806 0.67508984 0.69870993] mean 0.662706\n",
      "config {'type': 'tree', 'min_samples_leaf': 0.001, 'min_impurity_decrease': 0.01} : cv [0.64141665 0.65907137 0.6347896  0.67591489 0.69907399] mean 0.662053\n",
      "config {'type': 'tree', 'min_samples_leaf': 0.001, 'min_impurity_decrease': 0.1} : cv [0.63866696 0.66218491 0.63022044 0.67863467 0.69915328] mean 0.661772\n",
      "config {'type': 'tree', 'min_samples_leaf': 0.01, 'min_impurity_decrease': 0.0} : cv [0.5506928  0.56227268 0.56563256 0.58491821 0.57243406] mean 0.567190\n",
      "config {'type': 'tree', 'min_samples_leaf': 0.01, 'min_impurity_decrease': 0.001} : cv [0.55069395 0.56228142 0.56562912 0.58491632 0.57242847] mean 0.567190\n",
      "config {'type': 'tree', 'min_samples_leaf': 0.01, 'min_impurity_decrease': 0.01} : cv [0.55071471 0.56223152 0.56568845 0.58473706 0.57247085] mean 0.567169\n",
      "config {'type': 'tree', 'min_samples_leaf': 0.01, 'min_impurity_decrease': 0.1} : cv [0.54991127 0.56213613 0.56541217 0.58492796 0.57168436] mean 0.566814\n",
      "config {'type': 'tree', 'min_samples_leaf': 0.1, 'min_impurity_decrease': 0.0} : cv [0.44344443 0.46862948 0.45576634 0.39822557 0.14858601] mean 0.382930\n",
      "config {'type': 'tree', 'min_samples_leaf': 0.1, 'min_impurity_decrease': 0.001} : cv [0.44344443 0.46862948 0.45576634 0.39822557 0.14858601] mean 0.382930\n",
      "config {'type': 'tree', 'min_samples_leaf': 0.1, 'min_impurity_decrease': 0.01} : cv [0.44347305 0.46862948 0.45576634 0.39822557 0.14858601] mean 0.382936\n",
      "config {'type': 'tree', 'min_samples_leaf': 0.1, 'min_impurity_decrease': 0.1} : cv [0.44347305 0.46879434 0.45588307 0.39815164 0.14858601] mean 0.382978\n",
      "config {'type': 'SVM', 'kernel': 'rbf', 'C': 10.0} : cv [0.6226029  0.55662341 0.62416795 0.59765035 0.56404584] mean 0.593018\n",
      "config {'type': 'SVM', 'kernel': 'rbf', 'C': 100.0} : cv [0.69555358 0.68149207 0.70323948 0.6962445  0.70860826] mean 0.697028\n",
      "config {'type': 'SVM', 'kernel': 'rbf', 'C': 1000.0} : cv [0.65223925 0.68156485 0.66423479 0.71636749 0.73424367] mean 0.689730\n",
      "config {'type': 'SVM', 'kernel': 'poly', 'C': 10.0} : cv [0.58049713 0.55235061 0.62515842 0.57560952 0.52038232] mean 0.570800\n",
      "config {'type': 'SVM', 'kernel': 'poly', 'C': 100.0} : cv [0.65489277 0.68604271 0.68106281 0.66081876 0.70151807] mean 0.676867\n",
      "config {'type': 'SVM', 'kernel': 'poly', 'C': 1000.0} : cv [0.55531985 0.66312514 0.60019232 0.64571693 0.70900024] mean 0.634671\n",
      "config {'type': 'random forest', 'min_samples_leaf': 1, 'n_estimators': 20, 'min_impurity_decrease': 0.0} : cv [0.64749897 0.70820831 0.69275259 0.75942335 0.74889845] mean 0.711356\n",
      "config {'type': 'random forest', 'min_samples_leaf': 1, 'n_estimators': 50, 'min_impurity_decrease': 0.0} : cv [0.66848713 0.69267425 0.66694036 0.76589963 0.73496256] mean 0.705793\n",
      "config {'type': 'random forest', 'min_samples_leaf': 1, 'n_estimators': 100, 'min_impurity_decrease': 0.0} : cv [0.66662424 0.69817912 0.6937897  0.76081942 0.7392653 ] mean 0.711736\n",
      "config {'type': 'random forest', 'min_samples_leaf': 1, 'n_estimators': 20, 'min_impurity_decrease': 0.001} : cv [0.66446581 0.69400638 0.7043541  0.75706108 0.7434101 ] mean 0.712659\n",
      "config {'type': 'random forest', 'min_samples_leaf': 1, 'n_estimators': 50, 'min_impurity_decrease': 0.001} : cv [0.66242064 0.68582515 0.68350142 0.76039216 0.74362652] mean 0.707153\n",
      "config {'type': 'random forest', 'min_samples_leaf': 1, 'n_estimators': 100, 'min_impurity_decrease': 0.001} : cv [0.69847535 0.69155751 0.68784165 0.76352142 0.73864549] mean 0.716008\n",
      "config {'type': 'random forest', 'min_samples_leaf': 1, 'n_estimators': 20, 'min_impurity_decrease': 0.01} : cv [0.66799276 0.69835917 0.6900717  0.75981499 0.72886674] mean 0.709021\n",
      "config {'type': 'random forest', 'min_samples_leaf': 1, 'n_estimators': 50, 'min_impurity_decrease': 0.01} : cv [0.66582497 0.69694212 0.68457262 0.75944989 0.74225155] mean 0.709808\n",
      "config {'type': 'random forest', 'min_samples_leaf': 1, 'n_estimators': 100, 'min_impurity_decrease': 0.01} : cv [0.66378512 0.69068026 0.69387386 0.76851685 0.74542464] mean 0.712456\n",
      "config {'type': 'random forest', 'min_samples_leaf': 1, 'n_estimators': 20, 'min_impurity_decrease': 0.1} : cv [0.68290087 0.69251977 0.69890722 0.74934193 0.73681229] mean 0.712096\n",
      "config {'type': 'random forest', 'min_samples_leaf': 1, 'n_estimators': 50, 'min_impurity_decrease': 0.1} : cv [0.65998777 0.69745701 0.68422276 0.76772051 0.74089826] mean 0.710057\n",
      "config {'type': 'random forest', 'min_samples_leaf': 1, 'n_estimators': 100, 'min_impurity_decrease': 0.1} : cv [0.66897281 0.69961485 0.70285237 0.75706809 0.7382877 ] mean 0.713359\n",
      "config {'type': 'random forest', 'min_samples_leaf': 0.001, 'n_estimators': 20, 'min_impurity_decrease': 0.0} : cv [0.68344782 0.65956665 0.70056073 0.70706488 0.68666679] mean 0.687461\n",
      "config {'type': 'random forest', 'min_samples_leaf': 0.001, 'n_estimators': 50, 'min_impurity_decrease': 0.0} : cv [0.67405805 0.67267199 0.6875593  0.7108931  0.69095192] mean 0.687227\n",
      "config {'type': 'random forest', 'min_samples_leaf': 0.001, 'n_estimators': 100, 'min_impurity_decrease': 0.0} : cv [0.67433463 0.67023518 0.68986859 0.70808351 0.69350423] mean 0.687205\n",
      "config {'type': 'random forest', 'min_samples_leaf': 0.001, 'n_estimators': 20, 'min_impurity_decrease': 0.001} : cv [0.6793727  0.67422136 0.67943886 0.70311103 0.6981322 ] mean 0.686855\n",
      "config {'type': 'random forest', 'min_samples_leaf': 0.001, 'n_estimators': 50, 'min_impurity_decrease': 0.001} : cv [0.67104184 0.66421543 0.68680338 0.70807314 0.69214457] mean 0.684456\n",
      "config {'type': 'random forest', 'min_samples_leaf': 0.001, 'n_estimators': 100, 'min_impurity_decrease': 0.001} : cv [0.67661388 0.66813927 0.69764149 0.71085546 0.69577098] mean 0.689804\n",
      "config {'type': 'random forest', 'min_samples_leaf': 0.001, 'n_estimators': 20, 'min_impurity_decrease': 0.01} : cv [0.6745153  0.65963473 0.69354384 0.69371219 0.69774011] mean 0.683829\n",
      "config {'type': 'random forest', 'min_samples_leaf': 0.001, 'n_estimators': 50, 'min_impurity_decrease': 0.01} : cv [0.67644294 0.66514348 0.69271823 0.70733743 0.69333891] mean 0.686996\n",
      "config {'type': 'random forest', 'min_samples_leaf': 0.001, 'n_estimators': 100, 'min_impurity_decrease': 0.01} : cv [0.67786039 0.66948178 0.69584613 0.70779108 0.69494603] mean 0.689185\n",
      "config {'type': 'random forest', 'min_samples_leaf': 0.001, 'n_estimators': 20, 'min_impurity_decrease': 0.1} : cv [0.67885814 0.66638727 0.69083187 0.70455857 0.68625814] mean 0.685379\n",
      "config {'type': 'random forest', 'min_samples_leaf': 0.001, 'n_estimators': 50, 'min_impurity_decrease': 0.1} : cv [0.68230259 0.66672976 0.69261837 0.70606073 0.69121635] mean 0.687786\n",
      "config {'type': 'random forest', 'min_samples_leaf': 0.001, 'n_estimators': 100, 'min_impurity_decrease': 0.1} : cv [0.67722169 0.66825411 0.69526168 0.70490714 0.69368433] mean 0.687866\n",
      "config {'type': 'random forest', 'min_samples_leaf': 0.01, 'n_estimators': 20, 'min_impurity_decrease': 0.0} : cv [0.53565093 0.5247491  0.54102894 0.5106228  0.52014347] mean 0.526439\n",
      "config {'type': 'random forest', 'min_samples_leaf': 0.01, 'n_estimators': 50, 'min_impurity_decrease': 0.0} : cv [0.55005199 0.52283828 0.53726954 0.51074574 0.5209926 ] mean 0.528380\n",
      "config {'type': 'random forest', 'min_samples_leaf': 0.01, 'n_estimators': 100, 'min_impurity_decrease': 0.0} : cv [0.55130453 0.51808471 0.53581735 0.51217917 0.52286944] mean 0.528051\n",
      "config {'type': 'random forest', 'min_samples_leaf': 0.01, 'n_estimators': 20, 'min_impurity_decrease': 0.001} : cv [0.54335753 0.51799167 0.53529868 0.51090417 0.52154333] mean 0.525819\n",
      "config {'type': 'random forest', 'min_samples_leaf': 0.01, 'n_estimators': 50, 'min_impurity_decrease': 0.001} : cv [0.54451081 0.52014583 0.53640862 0.51006742 0.52515188] mean 0.527257\n",
      "config {'type': 'random forest', 'min_samples_leaf': 0.01, 'n_estimators': 100, 'min_impurity_decrease': 0.001} : cv [0.5445633  0.51811871 0.53545784 0.51130437 0.52023098] mean 0.525935\n",
      "config {'type': 'random forest', 'min_samples_leaf': 0.01, 'n_estimators': 20, 'min_impurity_decrease': 0.01} : cv [0.54604081 0.5173677  0.52803222 0.51517662 0.51756387] mean 0.524836\n",
      "config {'type': 'random forest', 'min_samples_leaf': 0.01, 'n_estimators': 50, 'min_impurity_decrease': 0.01} : cv [0.54226126 0.51594976 0.53892299 0.51043348 0.52612767] mean 0.526739\n",
      "config {'type': 'random forest', 'min_samples_leaf': 0.01, 'n_estimators': 100, 'min_impurity_decrease': 0.01} : cv [0.54608409 0.51756542 0.53558536 0.5110107  0.52224098] mean 0.526497\n",
      "config {'type': 'random forest', 'min_samples_leaf': 0.01, 'n_estimators': 20, 'min_impurity_decrease': 0.1} : cv [0.54197248 0.51409878 0.53736495 0.50989201 0.51804955] mean 0.524276\n",
      "config {'type': 'random forest', 'min_samples_leaf': 0.01, 'n_estimators': 50, 'min_impurity_decrease': 0.1} : cv [0.54511769 0.51854695 0.53814272 0.51368594 0.52251513] mean 0.527602\n",
      "config {'type': 'random forest', 'min_samples_leaf': 0.01, 'n_estimators': 100, 'min_impurity_decrease': 0.1} : cv [0.54277897 0.51892961 0.5362091  0.51053407 0.52135853] mean 0.525962\n",
      "config {'type': 'random forest', 'min_samples_leaf': 0.1, 'n_estimators': 20, 'min_impurity_decrease': 0.0} : cv [0.05894501 0.0586171  0.06368645 0.08310859 0.07666806] mean 0.068205\n",
      "config {'type': 'random forest', 'min_samples_leaf': 0.1, 'n_estimators': 50, 'min_impurity_decrease': 0.0} : cv [0.0659822  0.05820204 0.0641722  0.08133495 0.07723614] mean 0.069386\n",
      "config {'type': 'random forest', 'min_samples_leaf': 0.1, 'n_estimators': 100, 'min_impurity_decrease': 0.0} : cv [0.06416538 0.0591434  0.0675981  0.08248801 0.07665031] mean 0.070009\n",
      "config {'type': 'random forest', 'min_samples_leaf': 0.1, 'n_estimators': 20, 'min_impurity_decrease': 0.001} : cv [0.06641045 0.05926096 0.06394632 0.08186217 0.08017543] mean 0.070331\n",
      "config {'type': 'random forest', 'min_samples_leaf': 0.1, 'n_estimators': 50, 'min_impurity_decrease': 0.001} : cv [0.06445011 0.05863509 0.06336297 0.08203309 0.07486365] mean 0.068669\n",
      "config {'type': 'random forest', 'min_samples_leaf': 0.1, 'n_estimators': 100, 'min_impurity_decrease': 0.001} : cv [0.06311956 0.05892097 0.06297952 0.08181877 0.07800747] mean 0.068969\n",
      "config {'type': 'random forest', 'min_samples_leaf': 0.1, 'n_estimators': 20, 'min_impurity_decrease': 0.01} : cv [0.06688238 0.05868693 0.06411644 0.08057609 0.07930059] mean 0.069912\n",
      "config {'type': 'random forest', 'min_samples_leaf': 0.1, 'n_estimators': 50, 'min_impurity_decrease': 0.01} : cv [0.06355858 0.05982832 0.06276253 0.08221826 0.07680349] mean 0.069034\n",
      "config {'type': 'random forest', 'min_samples_leaf': 0.1, 'n_estimators': 100, 'min_impurity_decrease': 0.01} : cv [0.06288063 0.05939102 0.06338842 0.0822673  0.07582552] mean 0.068751\n",
      "config {'type': 'random forest', 'min_samples_leaf': 0.1, 'n_estimators': 20, 'min_impurity_decrease': 0.1} : cv [0.06469859 0.05897676 0.06176357 0.08077872 0.077018  ] mean 0.068647\n",
      "config {'type': 'random forest', 'min_samples_leaf': 0.1, 'n_estimators': 50, 'min_impurity_decrease': 0.1} : cv [0.0630736  0.06004352 0.06183202 0.08210781 0.07578466] mean 0.068568\n",
      "config {'type': 'random forest', 'min_samples_leaf': 0.1, 'n_estimators': 100, 'min_impurity_decrease': 0.1} : cv [0.06276989 0.06018804 0.0643564  0.08126748 0.07666042] mean 0.069048\n",
      "testing models took 847.037949\n"
     ]
    }
   ],
   "source": [
    "regs=[({'type':'ridge','alpha':alpha},Ridge(alpha=alpha)) for alpha in [0.01,0.1,1.0,10.,100.]]\n",
    "regs+=[({'type':'tree','min_samples_leaf':min_samples_leaf,'min_impurity_decrease':min_impurity_decrease},DecisionTreeRegressor(min_samples_leaf=min_samples_leaf,min_impurity_decrease=min_impurity_decrease)) for min_samples_leaf in [1,0.001,0.01,0.1 ] for min_impurity_decrease in [0.,0.001,0.01,0.1]]\n",
    "regs+=[({'type':'SVM','kernel':kernel,'C':C},SVR(kernel=kernel,C=C)) for kernel in [\"rbf\",\"poly\" ] for C in [10.,100.,1000.]]\n",
    "regs+=[({'type':'random forest','min_samples_leaf':min_samples_leaf,'n_estimators':n_estimators,'min_impurity_decrease':min_impurity_decrease},RandomForestRegressor(min_samples_leaf=min_samples_leaf,n_estimators=n_estimators)) for min_samples_leaf in  [1,0.001,0.01,0.1 ] for min_impurity_decrease in [0.,0.001,0.01,0.1] for n_estimators in [20,50,100]]\n",
    "\n",
    "t1=time.time()\n",
    "for config,reg in regs:\n",
    "\n",
    "    scores=cross_val_score(reg,X_train,y_train)\n",
    "    score=np.mean(scores)\n",
    "    print(\"config %s : cv %s mean %f\"%(config,str(scores),score))\n",
    " \n",
    "t2=time.time()\n",
    "print(\"testing models took %f\"%(t2-t1))"
   ]
  },
  {
   "cell_type": "markdown",
   "id": "ae795499-a27b-46fe-b1d9-9722df5fbdb3",
   "metadata": {},
   "source": [
    "### TREE SELECTION AND BINARY FEATURES IMPORTANCE"
   ]
  },
  {
   "cell_type": "code",
   "execution_count": 29,
   "id": "4a81b8bf-f927-4ff1-837c-7be97ce437ee",
   "metadata": {},
   "outputs": [
    {
     "data": {
      "text/plain": [
       "0.6152465430975376"
      ]
     },
     "execution_count": 29,
     "metadata": {},
     "output_type": "execute_result"
    }
   ],
   "source": [
    "reg=DecisionTreeRegressor(min_samples_leaf=0.001, min_impurity_decrease=0.0s1)\n",
    "reg.fit(X_train,y_train)\n",
    "reg.score(X_val,y_val)"
   ]
  },
  {
   "cell_type": "code",
   "execution_count": 23,
   "id": "daba2941-fdcc-4eb8-8755-d7afa5c0543f",
   "metadata": {},
   "outputs": [
    {
     "data": {
      "text/plain": [
       "array(['composition_CASHMERE', 'composition_COTTON',\n",
       "       'product_type_FORMAL COATS', 'composition_MERINOWOOL',\n",
       "       'composition_SILK', 'composition_SHEEPWOOL',\n",
       "       'composition_VIRGINWOOL', 'composition_PIMACOTTON',\n",
       "       'manufacturing_country_IT', 'product_type_JACKETS & WORKVESTS',\n",
       "       'dyeing_country_IT', 'composition_ORGANICCOTTON',\n",
       "       'composition_POLYAMIDE', 'composition_VISCOSE', 'nb_components_1',\n",
       "       'product_type_TSHIRTS', 'composition_ALPACAWOOL',\n",
       "       'product_type_DENIM PANTS', 'product_type_PULLOVERS',\n",
       "       'weaving_country_IT', 'nb_components_2', 'nb_components_3',\n",
       "       'product_type_PANTS', 'composition_POLYESTER',\n",
       "       'manufacturing_country_HK', 'product_type_DOWN JACKETS',\n",
       "       'manufacturing_country_CN', 'composition_ZAMAK',\n",
       "       'product_type_BLAZERS & SUITS', 'composition_ELASTANE',\n",
       "       'manufacturing_country_MN', 'product_type_ZIPPED COATS',\n",
       "       'composition_ACRYLIC', 'composition_HORN', 'dyeing_country_CN',\n",
       "       'product_type_DRESSES', 'product_type_UNDERWEARS',\n",
       "       'product_type_SOCKS', 'composition_MOHAIR', 'composition_OTHER',\n",
       "       'manufacturing_country_FR', 'raw_material_country_CN',\n",
       "       'product_type_SWEATSHIRTS', 'weaving_country_PT',\n",
       "       'composition_SUPERFINEALPACAWOOL', 'dyeing_country_ES',\n",
       "       'composition_RECYCLEDPOLYAMIDE', 'manufacturing_country_RO',\n",
       "       'composition_BABYALPACAWOOL', 'product_type_WAISTCOATS',\n",
       "       'product_type_CARDIGANS', 'plane_in_transports',\n",
       "       'manufacturing_country_IN', 'weaving_country_CN',\n",
       "       'manufacturing_country_BD', 'product_type_HOODIES',\n",
       "       'composition_KIDMOHAIR', 'dyeing_country_EG',\n",
       "       'manufacturing_country_VN', 'raw_material_country_IN',\n",
       "       'product_type_TANK TOPS', 'manufacturing_country_TR',\n",
       "       'composition_FLAX', 'composition_RECYCLEDSHEEPWOOL',\n",
       "       'manufacturing_country_PT', 'product_type_SHIRTS',\n",
       "       'dyeing_country_MA', 'manufacturing_country_TN',\n",
       "       'product_type_TOPS', 'manufacturing_country_MA',\n",
       "       'weaving_country_IN', 'product_type_POLOS', 'composition_SPANDEX®',\n",
       "       'dyeing_country_FR', 'weaving_country_TR',\n",
       "       'product_type_JUMPSUITS & BOILERS', 'composition_LAMBLEATHER',\n",
       "       'dyeing_country_PT', 'manufacturing_country_PK',\n",
       "       'product_type_SKIRTS', 'product_type_BLOUSES',\n",
       "       'manufacturing_country_UA', 'dyeing_country_IN',\n",
       "       'dyeing_country_PK', 'product_type_ONE PIECES',\n",
       "       'manufacturing_country_BG', 'product_type_BRAS',\n",
       "       'product_type_SHORTS', 'composition_RECYCLEDPOLYESTER',\n",
       "       'weaving_country_ES', 'composition_BRASS',\n",
       "       'product_type_SWIMMING TRUNKS', 'product_type_HOMEWEARS',\n",
       "       'weaving_country_FR', 'product_type_BIKINIS',\n",
       "       'manufacturing_country_EG', 'composition_ECOVERO®',\n",
       "       'composition_REGENERATIVEMERINOWOOL', 'weaving_country_JP',\n",
       "       'dyeing_country_TR', 'weaving_country_PK', 'composition_NYLON',\n",
       "       'composition_RECYCLEDCASHMERE', 'composition_BAMBOOVISCOSE',\n",
       "       'composition_BIO-BASEDACRYLIC', 'composition_RECYCLEDIRON',\n",
       "       'composition_RECYCLEDFLAX', 'composition_RECYCLEDELASTANE',\n",
       "       'composition_RECYCLEDCOTTON', 'composition_RECYCLEDBRASS',\n",
       "       'composition_RECYCLEDMIXEDDOWN', 'composition_RECYCLEDACRYLIC',\n",
       "       'composition_RAMIE', 'composition_BIO-BASEDNYLON',\n",
       "       'composition_RAFFIA', 'composition_RACCOONFUR',\n",
       "       'composition_POLYVINYLCHLORIDE', 'composition_POLYURETHANE',\n",
       "       'composition_RECYCLEDMERINOWOOL', 'composition_FEATHER',\n",
       "       'composition_POLYSTYRENE', 'composition_ALUMINIUM',\n",
       "       'composition_REGENERATIVECOTTON',\n",
       "       'composition_REGENERATIVECASHMERE', 'product_type_BODYSUITS',\n",
       "       'composition_RECYCLEDZAMAK', 'product_type_LEGGINGS',\n",
       "       'product_type_SHIRT-DRESSES', 'composition_RECYCLEDVISCOSE',\n",
       "       'product_type_STOCKINGS & TIGHTS',\n",
       "       'composition_RECYCLEDTHERMOPLASTICPOLYURETHANE',\n",
       "       'composition_RECYCLEDSILK', 'composition_RECYCLEDSAINTLESSSTEEL',\n",
       "       'composition_RECYCLEDPOLYETHYLENE', 'composition_ACETATE',\n",
       "       'composition_ACRYLONITRILEBUTADIENESTYRENE',\n",
       "       'composition_RECYCLEDNYLON', 'composition_BAMBOOFIBER',\n",
       "       'composition_POLYOXYMETHYLENE', 'composition_POLYPROPYLENE',\n",
       "       'composition_MODAL', 'composition_MILKCASEIN',\n",
       "       'composition_COCONUTFIBER', 'composition_METALLIZEDPOLYESTER',\n",
       "       'composition_METALLIZEDPOLYAMIDE', 'composition_COPPER',\n",
       "       'composition_LYOCELL', 'composition_LUREX®', 'composition_CUPRO',\n",
       "       'composition_REGENERATIVESHEEPWOOL',\n",
       "       'composition_LIVAECOBYBIRLACELLULOSE™', 'composition_DUCKDOWN',\n",
       "       'composition_ELASTOMULTIESTER', 'composition_HEMP',\n",
       "       'composition_ENKA®', 'composition_EPOXY', 'composition_MODACRYLIC',\n",
       "       'composition_CHROMEFREETANNINGBOVINELEATHER',\n",
       "       'composition_BIO-BASEDPOLYESTER', 'composition_MOTHEROFPEARL',\n",
       "       'composition_POLYETHYLENETEREPHTHALATE',\n",
       "       'composition_POLYETHYLENE', 'composition_BIRLAVISCOSE™',\n",
       "       'composition_POLYCARBONATE', 'composition_BOVINELEATHER',\n",
       "       'composition_CALFLEATHER', 'composition_PAPER-CARDBOARD',\n",
       "       'composition_CAMELHAIRS', 'composition_ORGANICVIRGINWOOL',\n",
       "       'composition_ORGANICSILK', 'composition_ORGANICSHEEPWOOL',\n",
       "       'composition_ORGANICMERINOWOOL', 'composition_ORGANICFLAX',\n",
       "       'composition_CAPRINELEATHER', 'composition_NATURALRUBBER',\n",
       "       'composition_CURLYLAMBFUR', 'composition_ZINC',\n",
       "       'composition_SEAQUAL®', 'dyeing_country_TH', 'dyeing_country_RO',\n",
       "       'dyeing_country_PL', 'dyeing_country_PE', 'dyeing_country_MX',\n",
       "       'dyeing_country_MU', 'dyeing_country_MN', 'dyeing_country_MG',\n",
       "       'dyeing_country_LT', 'dyeing_country_KR', 'dyeing_country_JP',\n",
       "       'dyeing_country_ID', 'dyeing_country_HK', 'dyeing_country_GT',\n",
       "       'dyeing_country_GR', 'dyeing_country_GB', 'dyeing_country_DZ',\n",
       "       'dyeing_country_DE', 'dyeing_country_CZ', 'dyeing_country_CH',\n",
       "       'dyeing_country_BG', 'dyeing_country_BE', 'dyeing_country_BD',\n",
       "       'weaving_country_VN', 'weaving_country_US', 'weaving_country_TW',\n",
       "       'weaving_country_TN', 'weaving_country_TH', 'weaving_country_SK',\n",
       "       'weaving_country_SG', 'dyeing_country_SI', 'dyeing_country_TN',\n",
       "       'composition_SHEARLING', 'dyeing_country_TW',\n",
       "       'manufacturing_country_TW', 'manufacturing_country_TH',\n",
       "       'manufacturing_country_SK', 'manufacturing_country_RS',\n",
       "       'manufacturing_country_PL', 'manufacturing_country_PE',\n",
       "       'manufacturing_country_NL', 'manufacturing_country_MX',\n",
       "       'manufacturing_country_MU', 'manufacturing_country_MM',\n",
       "       'manufacturing_country_MK', 'manufacturing_country_MG',\n",
       "       'manufacturing_country_MD', 'manufacturing_country_LV',\n",
       "       'manufacturing_country_LT', 'manufacturing_country_LA',\n",
       "       'manufacturing_country_KR', 'manufacturing_country_KH',\n",
       "       'manufacturing_country_JP', 'manufacturing_country_ID',\n",
       "       'manufacturing_country_HU', 'manufacturing_country_GB',\n",
       "       'manufacturing_country_ES', 'manufacturing_country_EE',\n",
       "       'manufacturing_country_CH', 'manufacturing_country_BA',\n",
       "       'manufacturing_country_AL', 'dyeing_country_VN',\n",
       "       'dyeing_country_US', 'weaving_country_RO', 'weaving_country_MN',\n",
       "       'weaving_country_MG', 'weaving_country_MA',\n",
       "       'raw_material_country_IT', 'raw_material_country_IE',\n",
       "       'raw_material_country_GR', 'raw_material_country_GB',\n",
       "       'raw_material_country_FR', 'raw_material_country_ES',\n",
       "       'raw_material_country_EG', 'raw_material_country_DE',\n",
       "       'raw_material_country_CI', 'raw_material_country_BR',\n",
       "       'raw_material_country_BJ', 'raw_material_country_BF',\n",
       "       'raw_material_country_BE', 'raw_material_country_BD',\n",
       "       'raw_material_country_AU', 'raw_material_country_AT',\n",
       "       'composition_YAKWOOL', 'composition_WATER-BASEDPOLYURETHANE',\n",
       "       'composition_VICUNAWOOL', 'composition_VEGETALIVORY-COROZO',\n",
       "       'composition_TRIACETATE', 'composition_THERMOPLASTICPOLYURETHANE',\n",
       "       'composition_TENCEL™MODAL', 'composition_TENCEL™LYOCELL',\n",
       "       'composition_SYNTHETICRUBBER', 'composition_SUPERKIDMOHAIR',\n",
       "       'composition_STEEL', 'composition_SILICONE',\n",
       "       'composition_SHEEPLEATHER', 'raw_material_country_JP',\n",
       "       'raw_material_country_KG', 'raw_material_country_KR',\n",
       "       'weaving_country_BE', 'weaving_country_LT', 'weaving_country_KR',\n",
       "       'weaving_country_ID', 'weaving_country_HU', 'weaving_country_HK',\n",
       "       'weaving_country_GR', 'weaving_country_GB', 'weaving_country_EG',\n",
       "       'weaving_country_DZ', 'weaving_country_DK', 'weaving_country_DE',\n",
       "       'weaving_country_CZ', 'weaving_country_BG', 'weaving_country_BD',\n",
       "       'raw_material_country_MG', 'raw_material_country_VN',\n",
       "       'raw_material_country_US', 'raw_material_country_UG',\n",
       "       'raw_material_country_TW', 'raw_material_country_TR',\n",
       "       'raw_material_country_TH', 'raw_material_country_SI',\n",
       "       'raw_material_country_RO', 'raw_material_country_PT',\n",
       "       'raw_material_country_PL', 'raw_material_country_PK',\n",
       "       'raw_material_country_MU', 'raw_material_country_MN',\n",
       "       'product_type_BIBS & BRACES'], dtype='<U45')"
      ]
     },
     "execution_count": 23,
     "metadata": {},
     "output_type": "execute_result"
    }
   ],
   "source": [
    "binary_features=np.array([\"%s_%s\"%(feature,label) for feature,feature_labels in FED.labels.items() for label in feature_labels]+FED.boolean_features)\n",
    "binary_features=binary_features[np.argsort(reg.feature_importances_[:FED.n_binary_features])[::-1]]\n",
    "binary_features"
   ]
  },
  {
   "cell_type": "markdown",
   "id": "25c28731-c9bb-4168-9095-9198154d3a73",
   "metadata": {},
   "source": [
    "### DATA VISUALIZATION NEW INSIGHTS"
   ]
  },
  {
   "cell_type": "code",
   "execution_count": 24,
   "id": "45180789-3660-4b15-902e-ecebed4edfa5",
   "metadata": {},
   "outputs": [],
   "source": [
    "df=df.dropna(subset=[\"resource_use_fossils\"])\n"
   ]
  },
  {
   "cell_type": "code",
   "execution_count": 25,
   "id": "64a4ad91-bebb-4f50-a0bf-c8435e9f6ae9",
   "metadata": {},
   "outputs": [
    {
     "name": "stdout",
     "output_type": "stream",
     "text": [
      "global_corr : 0.425991, pos_corr : 0.732581, neg_corr : 0.861418,weighted_corr : 0.848069\n"
     ]
    },
    {
     "data": {
      "image/png": "[encoded data removed]",
      "text/plain": [
       "<Figure size 800x800 with 1 Axes>"
      ]
     },
     "metadata": {},
     "output_type": "display_data"
    }
   ],
   "source": [
    "plt.rcParams['figure.figsize']=(8,8)\n",
    "\n",
    "binary_feature=binary_features[0]\n",
    "pos_df=df[df[binary_feature]]\n",
    "neg_df=df[~df[binary_feature]]\n",
    "x=df['resource_use_fossils']\n",
    "y=df['climate_change']\n",
    "x_pos=pos_df['resource_use_fossils']\n",
    "y_pos=pos_df['climate_change']\n",
    "x_neg=neg_df['resource_use_fossils']\n",
    "y_neg=neg_df['climate_change']\n",
    "\n",
    "global_corr=np.corrcoef(x, y)[0,1]\n",
    "pos_corr=np.corrcoef(x_pos, y_pos)[0,1]\n",
    "neg_corr=np.corrcoef(x_neg, y_neg)[0,1]\n",
    "weighted_corr=len(x_pos)*pos_corr/len(x)+len(x_neg)*neg_corr/len(x)\n",
    "\n",
    "print(\"global_corr : %f, pos_corr : %f, neg_corr : %f,weighted_corr : %f\"%(global_corr,pos_corr,neg_corr,weighted_corr))\n",
    "\n",
    "plt.scatter(x_pos,y_pos,c='b')\n",
    "plt.scatter(x_neg,y_neg,c='r')\n",
    "plt.xlabel('resource_use_fossils')\n",
    "plt.ylabel('climate_change')\n",
    "_=plt.title(binary_feature)"
   ]
  },
  {
   "cell_type": "markdown",
   "id": "f295a31a-7d64-4c06-9581-406e5009f5ea",
   "metadata": {},
   "source": [
    "### EXTRACTING AND VISUALIZING LEAF CONFIGURATIONS"
   ]
  },
  {
   "cell_type": "code",
   "execution_count": 26,
   "id": "cc88e8b7-a912-417e-8a78-0e39e4a97ecf",
   "metadata": {},
   "outputs": [
    {
     "name": "stdout",
     "output_type": "stream",
     "text": [
      "extracting configurations took 0.064307\n"
     ]
    }
   ],
   "source": [
    "t1=time.time()\n",
    "tree=reg.tree_\n",
    "n_binary_features=tree.n_features\n",
    "nx_tree=convert_tree(tree)\n",
    "FED.compute_features(nx_tree)\n",
    "leaf_configurations,leaf_values=extract_leaf_configuration(nx_tree)\n",
    "decoded_configurations=[FED.decode_key_configuration(leaf_configuration) for leaf_configuration in leaf_configurations]\n",
    "t2=time.time()\n",
    "print(\"extracting configurations took %f\"%(t2-t1))"
   ]
  },
  {
   "cell_type": "code",
   "execution_count": 27,
   "id": "7f3685d7-7831-47a7-9729-3a2d1221d3b1",
   "metadata": {},
   "outputs": [
    {
     "data": {
      "text/plain": [
       "{'product_type': {'label': 'FORMAL COATS'},\n",
       " 'nb_components': {'forbidden_labels': array([2])},\n",
       " 'composition': {'forbidden_labels': array(['CASHMERE', 'SHEEPWOOL', 'VIRGINWOOL'], dtype='<U33'),\n",
       "  'mandatory_labels': array(['POLYAMIDE'], dtype='<U33')},\n",
       " 'raw_material_country': {'forbidden_labels': array([], dtype='<U2'),\n",
       "  'mandatory_labels': array([], dtype='<U2')},\n",
       " 'weaving_country': {'forbidden_labels': array([], dtype='<U2'),\n",
       "  'mandatory_labels': array([], dtype='<U2')},\n",
       " 'dyeing_country': {'forbidden_labels': array([], dtype='<U2'),\n",
       "  'mandatory_labels': array([], dtype='<U2')},\n",
       " 'manufacturing_country': {'forbidden_labels': array([], dtype='<U2'),\n",
       "  'mandatory_labels': array([], dtype='<U2')},\n",
       " 'plane_in_transports': None}"
      ]
     },
     "execution_count": 27,
     "metadata": {},
     "output_type": "execute_result"
    }
   ],
   "source": [
    "random.choice(decoded_configurations)"
   ]
  },
  {
   "cell_type": "markdown",
   "id": "704be99c-5d18-4f09-b060-c2d939b21778",
   "metadata": {},
   "source": [
    "### SAVING DATA"
   ]
  },
  {
   "cell_type": "code",
   "execution_count": 28,
   "id": "6cdf84ff-ca9d-4665-8b47-975b2415207b",
   "metadata": {},
   "outputs": [],
   "source": [
    "model_path=\"./model.p\"\n",
    "features_encoder_decoder_path=\"./features_encoder_decoder.p\"\n",
    "leaf_configurations_path=\"./leaf_configurations.p\"\n",
    "leaf_values_path=\"./leaf_values.npy\"\n",
    "\n",
    "with open(model_path,\"wb\") as file:\n",
    "    pickle.dump(reg,file)\n",
    "with open(features_encoder_decoder_path,\"wb\") as file:\n",
    "    pickle.dump(FED,file)\n",
    "with open(leaf_configurations_path,\"wb\") as file:\n",
    "    pickle.dump(leaf_configurations,file)\n",
    "np.save(leaf_values_path,leaf_values)"
   ]
  },
  {
   "cell_type": "code",
   "execution_count": null,
   "id": "8ce4f843-3f12-4d09-b2db-aad34bcb40c3",
   "metadata": {},
   "outputs": [],
   "source": []
  }
 ],
 "metadata": {
  "kernelspec": {
   "display_name": "pygmt",
   "language": "python",
   "name": "pygmt"
  },
  "language_info": {
   "codemirror_mode": {
    "name": "ipython",
    "version": 3
   },
   "file_extension": ".py",
   "mimetype": "text/x-python",
   "name": "python",
   "nbconvert_exporter": "python",
   "pygments_lexer": "ipython3",
   "version": "3.11.5"
  }
 },
 "nbformat": 4,
 "nbformat_minor": 5
}
